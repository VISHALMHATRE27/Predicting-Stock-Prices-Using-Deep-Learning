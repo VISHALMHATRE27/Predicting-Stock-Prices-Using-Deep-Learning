{
 "cells": [
  {
   "cell_type": "markdown",
   "metadata": {},
   "source": [
    "### Stock Market Prediction And Forecasting Using Stacked LSTM"
   ]
  },
  {
   "cell_type": "code",
   "execution_count": null,
   "metadata": {},
   "outputs": [],
   "source": [
    "### Keras and Tensorflow >2.0"
   ]
  },
  {
   "cell_type": "code",
   "execution_count": 237,
   "metadata": {},
   "outputs": [],
   "source": [
    "import pandas as pd\n",
    "import numpy as np\n",
    "import matplotlib.pyplot as plt\n",
    "import tensorflow as tf\n",
    "%matplotlib inline\n",
    "import seaborn as sns"
   ]
  },
  {
   "cell_type": "code",
   "execution_count": 238,
   "metadata": {},
   "outputs": [],
   "source": [
    "df = pd.read_csv('AXISBANK.csv')"
   ]
  },
  {
   "cell_type": "code",
   "execution_count": 239,
   "metadata": {},
   "outputs": [
    {
     "data": {
      "text/plain": [
       "Date         False\n",
       "Open          True\n",
       "High          True\n",
       "Low           True\n",
       "Close         True\n",
       "Adj Close     True\n",
       "Volume        True\n",
       "dtype: bool"
      ]
     },
     "execution_count": 239,
     "metadata": {},
     "output_type": "execute_result"
    }
   ],
   "source": [
    "df.isna().any()"
   ]
  },
  {
   "cell_type": "code",
   "execution_count": 240,
   "metadata": {},
   "outputs": [],
   "source": [
    "df.dropna(inplace=True)"
   ]
  },
  {
   "cell_type": "code",
   "execution_count": 241,
   "metadata": {},
   "outputs": [
    {
     "data": {
      "text/html": [
       "<div>\n",
       "<style scoped>\n",
       "    .dataframe tbody tr th:only-of-type {\n",
       "        vertical-align: middle;\n",
       "    }\n",
       "\n",
       "    .dataframe tbody tr th {\n",
       "        vertical-align: top;\n",
       "    }\n",
       "\n",
       "    .dataframe thead th {\n",
       "        text-align: right;\n",
       "    }\n",
       "</style>\n",
       "<table border=\"1\" class=\"dataframe\">\n",
       "  <thead>\n",
       "    <tr style=\"text-align: right;\">\n",
       "      <th></th>\n",
       "      <th>Date</th>\n",
       "      <th>Open</th>\n",
       "      <th>High</th>\n",
       "      <th>Low</th>\n",
       "      <th>Close</th>\n",
       "      <th>Adj Close</th>\n",
       "      <th>Volume</th>\n",
       "    </tr>\n",
       "  </thead>\n",
       "  <tbody>\n",
       "    <tr>\n",
       "      <th>0</th>\n",
       "      <td>2015-04-29</td>\n",
       "      <td>536.950012</td>\n",
       "      <td>560.900024</td>\n",
       "      <td>535.500000</td>\n",
       "      <td>552.900024</td>\n",
       "      <td>537.454590</td>\n",
       "      <td>1193519.0</td>\n",
       "    </tr>\n",
       "    <tr>\n",
       "      <th>1</th>\n",
       "      <td>2015-04-30</td>\n",
       "      <td>562.000000</td>\n",
       "      <td>582.000000</td>\n",
       "      <td>559.049988</td>\n",
       "      <td>567.849976</td>\n",
       "      <td>551.986877</td>\n",
       "      <td>1671228.0</td>\n",
       "    </tr>\n",
       "    <tr>\n",
       "      <th>2</th>\n",
       "      <td>2015-05-04</td>\n",
       "      <td>571.000000</td>\n",
       "      <td>576.500000</td>\n",
       "      <td>563.400024</td>\n",
       "      <td>568.299988</td>\n",
       "      <td>552.424316</td>\n",
       "      <td>500336.0</td>\n",
       "    </tr>\n",
       "    <tr>\n",
       "      <th>3</th>\n",
       "      <td>2015-05-05</td>\n",
       "      <td>570.000000</td>\n",
       "      <td>574.299988</td>\n",
       "      <td>562.650024</td>\n",
       "      <td>565.599976</td>\n",
       "      <td>549.799805</td>\n",
       "      <td>617444.0</td>\n",
       "    </tr>\n",
       "    <tr>\n",
       "      <th>4</th>\n",
       "      <td>2015-05-06</td>\n",
       "      <td>564.000000</td>\n",
       "      <td>565.599976</td>\n",
       "      <td>540.900024</td>\n",
       "      <td>543.650024</td>\n",
       "      <td>528.463013</td>\n",
       "      <td>919003.0</td>\n",
       "    </tr>\n",
       "  </tbody>\n",
       "</table>\n",
       "</div>"
      ],
      "text/plain": [
       "         Date        Open        High         Low       Close   Adj Close  \\\n",
       "0  2015-04-29  536.950012  560.900024  535.500000  552.900024  537.454590   \n",
       "1  2015-04-30  562.000000  582.000000  559.049988  567.849976  551.986877   \n",
       "2  2015-05-04  571.000000  576.500000  563.400024  568.299988  552.424316   \n",
       "3  2015-05-05  570.000000  574.299988  562.650024  565.599976  549.799805   \n",
       "4  2015-05-06  564.000000  565.599976  540.900024  543.650024  528.463013   \n",
       "\n",
       "      Volume  \n",
       "0  1193519.0  \n",
       "1  1671228.0  \n",
       "2   500336.0  \n",
       "3   617444.0  \n",
       "4   919003.0  "
      ]
     },
     "execution_count": 241,
     "metadata": {},
     "output_type": "execute_result"
    }
   ],
   "source": [
    "df.head()"
   ]
  },
  {
   "cell_type": "code",
   "execution_count": 242,
   "metadata": {},
   "outputs": [
    {
     "data": {
      "text/html": [
       "<div>\n",
       "<style scoped>\n",
       "    .dataframe tbody tr th:only-of-type {\n",
       "        vertical-align: middle;\n",
       "    }\n",
       "\n",
       "    .dataframe tbody tr th {\n",
       "        vertical-align: top;\n",
       "    }\n",
       "\n",
       "    .dataframe thead th {\n",
       "        text-align: right;\n",
       "    }\n",
       "</style>\n",
       "<table border=\"1\" class=\"dataframe\">\n",
       "  <thead>\n",
       "    <tr style=\"text-align: right;\">\n",
       "      <th></th>\n",
       "      <th>Date</th>\n",
       "      <th>Open</th>\n",
       "      <th>High</th>\n",
       "      <th>Low</th>\n",
       "      <th>Close</th>\n",
       "      <th>Adj Close</th>\n",
       "      <th>Volume</th>\n",
       "    </tr>\n",
       "  </thead>\n",
       "  <tbody>\n",
       "    <tr>\n",
       "      <th>1225</th>\n",
       "      <td>2020-04-22</td>\n",
       "      <td>419.799988</td>\n",
       "      <td>434.399994</td>\n",
       "      <td>410.549988</td>\n",
       "      <td>431.200012</td>\n",
       "      <td>431.200012</td>\n",
       "      <td>1056967.0</td>\n",
       "    </tr>\n",
       "    <tr>\n",
       "      <th>1226</th>\n",
       "      <td>2020-04-23</td>\n",
       "      <td>437.000000</td>\n",
       "      <td>440.000000</td>\n",
       "      <td>426.000000</td>\n",
       "      <td>429.700012</td>\n",
       "      <td>429.700012</td>\n",
       "      <td>1327110.0</td>\n",
       "    </tr>\n",
       "    <tr>\n",
       "      <th>1227</th>\n",
       "      <td>2020-04-24</td>\n",
       "      <td>418.450012</td>\n",
       "      <td>419.450012</td>\n",
       "      <td>401.450012</td>\n",
       "      <td>404.100006</td>\n",
       "      <td>404.100006</td>\n",
       "      <td>1075649.0</td>\n",
       "    </tr>\n",
       "    <tr>\n",
       "      <th>1228</th>\n",
       "      <td>2020-04-27</td>\n",
       "      <td>414.200012</td>\n",
       "      <td>429.500000</td>\n",
       "      <td>409.600006</td>\n",
       "      <td>427.299988</td>\n",
       "      <td>427.299988</td>\n",
       "      <td>1004719.0</td>\n",
       "    </tr>\n",
       "    <tr>\n",
       "      <th>1229</th>\n",
       "      <td>2020-04-28</td>\n",
       "      <td>439.000000</td>\n",
       "      <td>458.250000</td>\n",
       "      <td>435.399994</td>\n",
       "      <td>455.549988</td>\n",
       "      <td>455.549988</td>\n",
       "      <td>1503750.0</td>\n",
       "    </tr>\n",
       "  </tbody>\n",
       "</table>\n",
       "</div>"
      ],
      "text/plain": [
       "            Date        Open        High         Low       Close   Adj Close  \\\n",
       "1225  2020-04-22  419.799988  434.399994  410.549988  431.200012  431.200012   \n",
       "1226  2020-04-23  437.000000  440.000000  426.000000  429.700012  429.700012   \n",
       "1227  2020-04-24  418.450012  419.450012  401.450012  404.100006  404.100006   \n",
       "1228  2020-04-27  414.200012  429.500000  409.600006  427.299988  427.299988   \n",
       "1229  2020-04-28  439.000000  458.250000  435.399994  455.549988  455.549988   \n",
       "\n",
       "         Volume  \n",
       "1225  1056967.0  \n",
       "1226  1327110.0  \n",
       "1227  1075649.0  \n",
       "1228  1004719.0  \n",
       "1229  1503750.0  "
      ]
     },
     "execution_count": 242,
     "metadata": {},
     "output_type": "execute_result"
    }
   ],
   "source": [
    "df.tail()"
   ]
  },
  {
   "cell_type": "code",
   "execution_count": 243,
   "metadata": {},
   "outputs": [],
   "source": [
    "df1=df.reset_index()['Close']"
   ]
  },
  {
   "cell_type": "code",
   "execution_count": 244,
   "metadata": {},
   "outputs": [
    {
     "data": {
      "text/plain": [
       "0       552.900024\n",
       "1       567.849976\n",
       "2       568.299988\n",
       "3       565.599976\n",
       "4       543.650024\n",
       "           ...    \n",
       "1224    431.200012\n",
       "1225    429.700012\n",
       "1226    404.100006\n",
       "1227    427.299988\n",
       "1228    455.549988\n",
       "Name: Close, Length: 1229, dtype: float64"
      ]
     },
     "execution_count": 244,
     "metadata": {},
     "output_type": "execute_result"
    }
   ],
   "source": [
    "df1"
   ]
  },
  {
   "cell_type": "code",
   "execution_count": 245,
   "metadata": {},
   "outputs": [
    {
     "data": {
      "text/plain": [
       "[<matplotlib.lines.Line2D at 0x22fadb35c88>]"
      ]
     },
     "execution_count": 245,
     "metadata": {},
     "output_type": "execute_result"
    },
    {
     "data": {
      "image/png": "[encoded data removed]",
      "text/plain": [
       "<Figure size 432x288 with 1 Axes>"
      ]
     },
     "metadata": {
      "needs_background": "light"
     },
     "output_type": "display_data"
    }
   ],
   "source": [
    "import matplotlib.pyplot as plt\n",
    "plt.plot(df1)"
   ]
  },
  {
   "cell_type": "code",
   "execution_count": 246,
   "metadata": {},
   "outputs": [],
   "source": [
    "### LSTM are sensitive to the scale of the data. so we apply MinMax scaler "
   ]
  },
  {
   "cell_type": "code",
   "execution_count": 247,
   "metadata": {},
   "outputs": [],
   "source": [
    "import numpy as np"
   ]
  },
  {
   "cell_type": "code",
   "execution_count": 248,
   "metadata": {},
   "outputs": [
    {
     "data": {
      "text/plain": [
       "0       552.900024\n",
       "1       567.849976\n",
       "2       568.299988\n",
       "3       565.599976\n",
       "4       543.650024\n",
       "           ...    \n",
       "1224    431.200012\n",
       "1225    429.700012\n",
       "1226    404.100006\n",
       "1227    427.299988\n",
       "1228    455.549988\n",
       "Name: Close, Length: 1229, dtype: float64"
      ]
     },
     "execution_count": 248,
     "metadata": {},
     "output_type": "execute_result"
    }
   ],
   "source": [
    "df1"
   ]
  },
  {
   "cell_type": "code",
   "execution_count": 249,
   "metadata": {},
   "outputs": [],
   "source": [
    "from sklearn.preprocessing import MinMaxScaler\n",
    "scaler=MinMaxScaler(feature_range=(0,1))\n",
    "df1=scaler.fit_transform(np.array(df1).reshape(-1,1))"
   ]
  },
  {
   "cell_type": "code",
   "execution_count": 250,
   "metadata": {},
   "outputs": [
    {
     "name": "stdout",
     "output_type": "stream",
     "text": [
      "[[0.4819103 ]\n",
      " [0.51075729]\n",
      " [0.51162562]\n",
      " ...\n",
      " [0.19479017]\n",
      " [0.23955617]\n",
      " [0.29406654]]\n"
     ]
    }
   ],
   "source": [
    "print(df1)"
   ]
  },
  {
   "cell_type": "code",
   "execution_count": 251,
   "metadata": {},
   "outputs": [],
   "source": [
    "##splitting dataset into train and test split\n",
    "training_size=int(len(df1)*0.70)\n",
    "test_size=len(df1)-training_size\n",
    "train_data,test_data=df1[0:training_size,:],df1[training_size:len(df1),:1]"
   ]
  },
  {
   "cell_type": "code",
   "execution_count": 252,
   "metadata": {},
   "outputs": [
    {
     "data": {
      "text/plain": [
       "(860, 369)"
      ]
     },
     "execution_count": 252,
     "metadata": {},
     "output_type": "execute_result"
    }
   ],
   "source": [
    "training_size,test_size"
   ]
  },
  {
   "cell_type": "code",
   "execution_count": 253,
   "metadata": {},
   "outputs": [
    {
     "data": {
      "text/plain": [
       "array([[0.49773269],\n",
       "       [0.50149538],\n",
       "       [0.5021708 ],\n",
       "       [0.49561021],\n",
       "       [0.45190539],\n",
       "       [0.50699472],\n",
       "       [0.50062705],\n",
       "       [0.53786785],\n",
       "       [0.57732748],\n",
       "       [0.59199228],\n",
       "       [0.61968157],\n",
       "       [0.58745772],\n",
       "       [0.58649294],\n",
       "       [0.59710557],\n",
       "       [0.58475639],\n",
       "       [0.608683  ],\n",
       "       [0.59739506],\n",
       "       [0.62228656],\n",
       "       [0.60810415],\n",
       "       [0.60202607],\n",
       "       [0.59758797],\n",
       "       [0.62363717],\n",
       "       [0.60038587],\n",
       "       [0.63222378],\n",
       "       [0.62141823],\n",
       "       [0.6261457 ],\n",
       "       [0.63135545],\n",
       "       [0.62247947],\n",
       "       [0.62064636],\n",
       "       [0.61649785],\n",
       "       [0.60086826],\n",
       "       [0.57346834],\n",
       "       [0.57906414],\n",
       "       [0.55349733],\n",
       "       [0.58099371],\n",
       "       [0.61013018],\n",
       "       [0.60781478],\n",
       "       [0.60887602],\n",
       "       [0.60607812],\n",
       "       [0.61090205],\n",
       "       [0.64891461],\n",
       "       [0.63646886],\n",
       "       [0.61350692],\n",
       "       [0.60135065],\n",
       "       [0.60530625],\n",
       "       [0.60656052],\n",
       "       [0.62151469],\n",
       "       [0.61099851],\n",
       "       [0.62585622],\n",
       "       [0.60926196],\n",
       "       [0.58813314],\n",
       "       [0.61109496],\n",
       "       [0.64505547],\n",
       "       [0.67100822],\n",
       "       [0.70795943],\n",
       "       [0.69435598],\n",
       "       [0.70110947],\n",
       "       [0.68740957],\n",
       "       [0.68876018],\n",
       "       [0.69561024],\n",
       "       [0.72001924],\n",
       "       [0.6968644 ],\n",
       "       [0.68904966],\n",
       "       [0.69204047],\n",
       "       [0.69126871],\n",
       "       [0.69618909],\n",
       "       [0.70352144],\n",
       "       [0.68075253],\n",
       "       [0.6901109 ],\n",
       "       [0.74819104],\n",
       "       [0.81003376],\n",
       "       [0.79739509],\n",
       "       [0.80279787],\n",
       "       [0.81939213],\n",
       "       [0.81186687],\n",
       "       [0.82238294],\n",
       "       [0.80096475],\n",
       "       [0.7857211 ],\n",
       "       [0.77703803],\n",
       "       [0.75561984],\n",
       "       [0.73979734],\n",
       "       [0.75147122],\n",
       "       [0.75262903],\n",
       "       [0.76748675],\n",
       "       [0.75976847],\n",
       "       [0.77163525],\n",
       "       [0.77346837],\n",
       "       [0.7852387 ],\n",
       "       [0.80019288],\n",
       "       [0.78379153],\n",
       "       [0.77173171],\n",
       "       [0.82768926],\n",
       "       [0.80337671],\n",
       "       [0.82788228],\n",
       "       [0.82817165],\n",
       "       [0.83164497],\n",
       "       [0.84727444],\n",
       "       [0.8399421 ],\n",
       "       [0.84380124],\n",
       "       [0.83463578],\n",
       "       [0.8659913 ],\n",
       "       [0.88345389],\n",
       "       [0.87293771],\n",
       "       [0.87641091],\n",
       "       [0.85036171],\n",
       "       [0.87612155],\n",
       "       [0.8818138 ],\n",
       "       [0.92050167],\n",
       "       [0.89136508],\n",
       "       [0.89589965],\n",
       "       [0.88422577],\n",
       "       [0.88567294],\n",
       "       [0.88528701],\n",
       "       [0.87052575],\n",
       "       [0.88837427],\n",
       "       [0.88490107],\n",
       "       [0.86618421],\n",
       "       [0.88953209],\n",
       "       [0.88769897],\n",
       "       [0.90207429],\n",
       "       [0.90313553],\n",
       "       [0.87264834],\n",
       "       [0.86821024],\n",
       "       [0.86724545],\n",
       "       [0.844573  ],\n",
       "       [0.88191026],\n",
       "       [0.8948384 ],\n",
       "       [0.86734202],\n",
       "       [0.87650748],\n",
       "       [0.85750114],\n",
       "       [0.84785329],\n",
       "       [0.83424984],\n",
       "       [0.8236372 ],\n",
       "       [0.83068018],\n",
       "       [0.82817165],\n",
       "       [0.82653156],\n",
       "       [0.80675346],\n",
       "       [0.82797874],\n",
       "       [0.85865896],\n",
       "       [0.92542205],\n",
       "       [0.90680165],\n",
       "       [0.91876501],\n",
       "       [0.91442348],\n",
       "       [0.94645442],\n",
       "       [0.98273032],\n",
       "       [0.97559089],\n",
       "       [0.96796906],\n",
       "       [0.97433662],\n",
       "       [0.97510849],\n",
       "       [0.98244084],\n",
       "       [1.        ],\n",
       "       [0.9757838 ],\n",
       "       [0.96681136],\n",
       "       [0.98610707],\n",
       "       [0.98755425],\n",
       "       [0.98253729],\n",
       "       [0.99671971],\n",
       "       [0.95899663],\n",
       "       [0.91374817],\n",
       "       [0.91287984],\n",
       "       [0.90323199],\n",
       "       [0.90361793],\n",
       "       [0.90458271],\n",
       "       [0.88702355],\n",
       "       [0.92368539],\n",
       "       [0.93738541],\n",
       "       [0.95938245],\n",
       "       [0.9734684 ],\n",
       "       [0.97848524],\n",
       "       [0.96382055],\n",
       "       [0.97086342],\n",
       "       [0.97539798],\n",
       "       [0.97018811],\n",
       "       [0.9260009 ],\n",
       "       [0.93207909],\n",
       "       [0.89792567],\n",
       "       [0.89435601],\n",
       "       [0.8727448 ],\n",
       "       [0.86155331],\n",
       "       [0.88480461],\n",
       "       [0.86734202],\n",
       "       [0.844573  ],\n",
       "       [0.82257596],\n",
       "       [0.81881328],\n",
       "       [0.8166908 ],\n",
       "       [0.78716827],\n",
       "       [0.81070906],\n",
       "       [0.82334772],\n",
       "       [0.8036662 ],\n",
       "       [0.77838875],\n",
       "       [0.71635313],\n",
       "       [0.70718767],\n",
       "       [0.71452001],\n",
       "       [0.69416307],\n",
       "       [0.72493962],\n",
       "       [0.68866372],\n",
       "       [0.68856727],\n",
       "       [0.68991799],\n",
       "       [0.66956104],\n",
       "       [0.69474191],\n",
       "       [0.71857206],\n",
       "       [0.73680653],\n",
       "       [0.71210805],\n",
       "       [0.69821512],\n",
       "       [0.69030393],\n",
       "       [0.69512785],\n",
       "       [0.73420166],\n",
       "       [0.73207906],\n",
       "       [0.72349245],\n",
       "       [0.69040038],\n",
       "       [0.69580316],\n",
       "       [0.66029901],\n",
       "       [0.66338639],\n",
       "       [0.66782438],\n",
       "       [0.70979254],\n",
       "       [0.71095024],\n",
       "       [0.73043897],\n",
       "       [0.69397004],\n",
       "       [0.71625656],\n",
       "       [0.71017848],\n",
       "       [0.65036179],\n",
       "       [0.66579836],\n",
       "       [0.64659911],\n",
       "       [0.7285094 ],\n",
       "       [0.81794495],\n",
       "       [0.77404722],\n",
       "       [0.75590932],\n",
       "       [0.765943  ],\n",
       "       [0.76739018],\n",
       "       [0.73613123],\n",
       "       [0.72657983],\n",
       "       [0.70448622],\n",
       "       [0.68113847],\n",
       "       [0.71316929],\n",
       "       [0.73931495],\n",
       "       [0.71345877],\n",
       "       [0.7126869 ],\n",
       "       [0.73400863],\n",
       "       [0.74645438],\n",
       "       [0.75320788],\n",
       "       [0.78610703],\n",
       "       [0.78350216],\n",
       "       [0.79025566],\n",
       "       [0.79430771],\n",
       "       [0.78012541],\n",
       "       [0.78128311],\n",
       "       [0.84129282],\n",
       "       [0.85769417],\n",
       "       [0.83521463],\n",
       "       [0.85894832],\n",
       "       [0.84708153],\n",
       "       [0.83830189],\n",
       "       [0.85663281],\n",
       "       [0.83260975],\n",
       "       [0.81485768],\n",
       "       [0.83058361],\n",
       "       [0.78552819],\n",
       "       [0.79633373],\n",
       "       [0.79768446],\n",
       "       [0.81022667],\n",
       "       [0.85807999],\n",
       "       [0.85991311],\n",
       "       [0.83743368],\n",
       "       [0.82768926],\n",
       "       [0.87149053],\n",
       "       [0.86657015],\n",
       "       [0.86695609],\n",
       "       [0.86328986],\n",
       "       [0.84196812],\n",
       "       [0.85103713],\n",
       "       [0.82990831],\n",
       "       [0.84245052],\n",
       "       [0.82267242],\n",
       "       [0.79961403],\n",
       "       [0.82739989],\n",
       "       [0.79536895],\n",
       "       [0.79749155],\n",
       "       [0.80742877],\n",
       "       [0.86608776],\n",
       "       [0.85663281],\n",
       "       [0.853642  ],\n",
       "       [0.84679205],\n",
       "       [0.84823923],\n",
       "       [0.84235406],\n",
       "       [0.84978286],\n",
       "       [0.84380124],\n",
       "       [0.83550411],\n",
       "       [0.88287504],\n",
       "       [0.87033284],\n",
       "       [0.8699469 ],\n",
       "       [0.86010613],\n",
       "       [0.876218  ],\n",
       "       [0.84852871],\n",
       "       [0.80935834],\n",
       "       [0.81534007],\n",
       "       [0.8134105 ],\n",
       "       [0.84920401],\n",
       "       [0.84293291],\n",
       "       [0.83801253],\n",
       "       [0.85769417],\n",
       "       [0.85479982],\n",
       "       [0.83772305],\n",
       "       [0.84254697],\n",
       "       [0.8173661 ],\n",
       "       [0.79999997],\n",
       "       [0.79035211],\n",
       "       [0.80974427],\n",
       "       [0.83772305],\n",
       "       [0.84293291],\n",
       "       [0.83733711],\n",
       "       [0.83396036],\n",
       "       [0.82614562],\n",
       "       [0.82238294],\n",
       "       [0.78330913],\n",
       "       [0.79450074],\n",
       "       [0.81234926],\n",
       "       [0.8371442 ],\n",
       "       [0.85836947],\n",
       "       [0.84544133],\n",
       "       [0.86126383],\n",
       "       [0.87216595],\n",
       "       [0.85769417],\n",
       "       [0.8359865 ],\n",
       "       [0.83917022],\n",
       "       [0.83019779],\n",
       "       [0.84524842],\n",
       "       [0.85055474],\n",
       "       [0.81553299],\n",
       "       [0.82151472],\n",
       "       [0.82315481],\n",
       "       [0.83453932],\n",
       "       [0.75947898],\n",
       "       [0.73217551],\n",
       "       [0.74114806],\n",
       "       [0.73111427],\n",
       "       [0.72243121],\n",
       "       [0.68451521],\n",
       "       [0.68451521],\n",
       "       [0.60897248],\n",
       "       [0.46251803],\n",
       "       [0.51143271],\n",
       "       [0.39758805],\n",
       "       [0.35880367],\n",
       "       [0.32706221],\n",
       "       [0.2404245 ],\n",
       "       [0.24158226],\n",
       "       [0.01003379],\n",
       "       [0.        ],\n",
       "       [0.0458273 ],\n",
       "       [0.07621804],\n",
       "       [0.10911725],\n",
       "       [0.12648338],\n",
       "       [0.14693679],\n",
       "       [0.10670529],\n",
       "       [0.04331888],\n",
       "       [0.16526771],\n",
       "       [0.17009163],\n",
       "       [0.22527736],\n",
       "       [0.22431258],\n",
       "       [0.21987459],\n",
       "       [0.23154847],\n",
       "       [0.34134102],\n",
       "       [0.29406654],\n",
       "       [0.22720693],\n",
       "       [0.24708154],\n",
       "       [0.24418719],\n",
       "       [0.19479017],\n",
       "       [0.23955617],\n",
       "       [0.29406654]])"
      ]
     },
     "execution_count": 253,
     "metadata": {},
     "output_type": "execute_result"
    }
   ],
   "source": [
    "test_data"
   ]
  },
  {
   "cell_type": "code",
   "execution_count": 254,
   "metadata": {},
   "outputs": [],
   "source": [
    "import numpy\n",
    "# convert an array of values into a dataset matrix\n",
    "def create_dataset(dataset, time_step=1):\n",
    "\tdataX, dataY = [], []\n",
    "\tfor i in range(len(dataset)-time_step-1):\n",
    "\t\ta = dataset[i:(i+time_step), 0]   ###i=0, 0,1,2,3-----99   100 \n",
    "\t\tdataX.append(a)\n",
    "\t\tdataY.append(dataset[i + time_step, 0])\n",
    "\treturn numpy.array(dataX), numpy.array(dataY)"
   ]
  },
  {
   "cell_type": "code",
   "execution_count": 255,
   "metadata": {},
   "outputs": [],
   "source": [
    "# reshape into X=t,t+1,t+2,t+3 and Y=t+4\n",
    "time_step = 100\n",
    "X_train, y_train = create_dataset(train_data, time_step)\n",
    "X_test, ytest = create_dataset(test_data, time_step)"
   ]
  },
  {
   "cell_type": "code",
   "execution_count": 256,
   "metadata": {},
   "outputs": [
    {
     "name": "stdout",
     "output_type": "stream",
     "text": [
      "(759, 100)\n",
      "(759,)\n"
     ]
    },
    {
     "data": {
      "text/plain": [
       "(None, None)"
      ]
     },
     "execution_count": 256,
     "metadata": {},
     "output_type": "execute_result"
    }
   ],
   "source": [
    "print(X_train.shape), print(y_train.shape)"
   ]
  },
  {
   "cell_type": "code",
   "execution_count": 257,
   "metadata": {},
   "outputs": [
    {
     "name": "stdout",
     "output_type": "stream",
     "text": [
      "(268, 100)\n",
      "(268,)\n"
     ]
    },
    {
     "data": {
      "text/plain": [
       "(None, None)"
      ]
     },
     "execution_count": 257,
     "metadata": {},
     "output_type": "execute_result"
    }
   ],
   "source": [
    "print(X_test.shape), print(ytest.shape)"
   ]
  },
  {
   "cell_type": "code",
   "execution_count": 258,
   "metadata": {},
   "outputs": [],
   "source": [
    "# reshape input to be [samples, time steps, features] which is required for LSTM\n",
    "X_train =X_train.reshape(X_train.shape[0],X_train.shape[1] , 1)\n",
    "X_test = X_test.reshape(X_test.shape[0],X_test.shape[1] , 1)"
   ]
  },
  {
   "cell_type": "code",
   "execution_count": 259,
   "metadata": {},
   "outputs": [],
   "source": [
    "### Create the Stacked LSTM model\n",
    "from tensorflow.keras.models import Sequential\n",
    "from tensorflow.keras.layers import Dense\n",
    "from tensorflow.keras.layers import LSTM"
   ]
  },
  {
   "cell_type": "code",
   "execution_count": 260,
   "metadata": {},
   "outputs": [],
   "source": [
    "model=Sequential()\n",
    "model.add(LSTM(50,return_sequences=True,input_shape=(100,1)))\n",
    "model.add(LSTM(50,return_sequences=True))\n",
    "model.add(LSTM(50))\n",
    "model.add(Dense(1))\n",
    "model.compile(loss='mean_squared_error',optimizer='adam')\n"
   ]
  },
  {
   "cell_type": "code",
   "execution_count": 261,
   "metadata": {},
   "outputs": [
    {
     "name": "stdout",
     "output_type": "stream",
     "text": [
      "Model: \"sequential_8\"\n",
      "_________________________________________________________________\n",
      "Layer (type)                 Output Shape              Param #   \n",
      "=================================================================\n",
      "lstm_24 (LSTM)               (None, 100, 50)           10400     \n",
      "_________________________________________________________________\n",
      "lstm_25 (LSTM)               (None, 100, 50)           20200     \n",
      "_________________________________________________________________\n",
      "lstm_26 (LSTM)               (None, 50)                20200     \n",
      "_________________________________________________________________\n",
      "dense_8 (Dense)              (None, 1)                 51        \n",
      "=================================================================\n",
      "Total params: 50,851\n",
      "Trainable params: 50,851\n",
      "Non-trainable params: 0\n",
      "_________________________________________________________________\n"
     ]
    }
   ],
   "source": [
    "model.summary()"
   ]
  },
  {
   "cell_type": "code",
   "execution_count": null,
   "metadata": {},
   "outputs": [],
   "source": []
  },
  {
   "cell_type": "code",
   "execution_count": 262,
   "metadata": {},
   "outputs": [
    {
     "name": "stdout",
     "output_type": "stream",
     "text": [
      "Train on 759 samples, validate on 268 samples\n",
      "Epoch 1/10\n",
      "759/759 [==============================] - 13s 17ms/sample - loss: 0.0445 - val_loss: 0.0853\n",
      "Epoch 2/10\n",
      "759/759 [==============================] - 3s 5ms/sample - loss: 0.0076 - val_loss: 0.0210\n",
      "Epoch 3/10\n",
      "759/759 [==============================] - 3s 5ms/sample - loss: 0.0040 - val_loss: 0.0514\n",
      "Epoch 4/10\n",
      "759/759 [==============================] - 3s 4ms/sample - loss: 0.0033 - val_loss: 0.0278\n",
      "Epoch 5/10\n",
      "759/759 [==============================] - 3s 4ms/sample - loss: 0.0028 - val_loss: 0.0261\n",
      "Epoch 6/10\n",
      "759/759 [==============================] - 3s 4ms/sample - loss: 0.0025 - val_loss: 0.0211\n",
      "Epoch 7/10\n",
      "759/759 [==============================] - 3s 4ms/sample - loss: 0.0023 - val_loss: 0.0184\n",
      "Epoch 8/10\n",
      "759/759 [==============================] - 3s 5ms/sample - loss: 0.0022 - val_loss: 0.0153\n",
      "Epoch 9/10\n",
      "759/759 [==============================] - 3s 5ms/sample - loss: 0.0021 - val_loss: 0.0140\n",
      "Epoch 10/10\n",
      "759/759 [==============================] - 3s 4ms/sample - loss: 0.0020 - val_loss: 0.0130\n"
     ]
    },
    {
     "data": {
      "text/plain": [
       "<tensorflow.python.keras.callbacks.History at 0x22fae651348>"
      ]
     },
     "execution_count": 262,
     "metadata": {},
     "output_type": "execute_result"
    }
   ],
   "source": [
    "model.fit(X_train,y_train,validation_data=(X_test,ytest),epochs=10,batch_size=64,verbose=1)"
   ]
  },
  {
   "cell_type": "code",
   "execution_count": 263,
   "metadata": {},
   "outputs": [],
   "source": [
    "import tensorflow as tf"
   ]
  },
  {
   "cell_type": "code",
   "execution_count": 264,
   "metadata": {},
   "outputs": [
    {
     "data": {
      "text/plain": [
       "'2.0.0'"
      ]
     },
     "execution_count": 264,
     "metadata": {},
     "output_type": "execute_result"
    }
   ],
   "source": [
    "tf.__version__"
   ]
  },
  {
   "cell_type": "code",
   "execution_count": 265,
   "metadata": {},
   "outputs": [],
   "source": [
    "### Lets Do the prediction and check performance metrics\n",
    "train_predict=model.predict(X_train)\n",
    "test_predict=model.predict(X_test)"
   ]
  },
  {
   "cell_type": "code",
   "execution_count": 266,
   "metadata": {},
   "outputs": [],
   "source": [
    "##Transformback to original form\n",
    "train_predict=scaler.inverse_transform(train_predict)\n",
    "test_predict=scaler.inverse_transform(test_predict)"
   ]
  },
  {
   "cell_type": "code",
   "execution_count": 267,
   "metadata": {},
   "outputs": [
    {
     "data": {
      "text/plain": [
       "515.298161744194"
      ]
     },
     "execution_count": 267,
     "metadata": {},
     "output_type": "execute_result"
    }
   ],
   "source": [
    "### Calculate RMSE performance metrics\n",
    "import math\n",
    "from sklearn.metrics import mean_squared_error\n",
    "math.sqrt(mean_squared_error(y_train,train_predict))"
   ]
  },
  {
   "cell_type": "code",
   "execution_count": 268,
   "metadata": {},
   "outputs": [
    {
     "data": {
      "text/plain": [
       "702.605482926181"
      ]
     },
     "execution_count": 268,
     "metadata": {},
     "output_type": "execute_result"
    }
   ],
   "source": [
    "### Test Data RMSE\n",
    "math.sqrt(mean_squared_error(ytest,test_predict))"
   ]
  },
  {
   "cell_type": "code",
   "execution_count": 269,
   "metadata": {},
   "outputs": [
    {
     "data": {
      "image/png": "[encoded data removed]",
      "text/plain": [
       "<Figure size 432x288 with 1 Axes>"
      ]
     },
     "metadata": {
      "needs_background": "light"
     },
     "output_type": "display_data"
    }
   ],
   "source": [
    "### Plotting \n",
    "# shift train predictions for plotting\n",
    "look_back=100\n",
    "trainPredictPlot = numpy.empty_like(df1)\n",
    "trainPredictPlot[:, :] = np.nan\n",
    "trainPredictPlot[look_back:len(train_predict)+look_back, :] = train_predict\n",
    "# shift test predictions for plotting\n",
    "testPredictPlot = numpy.empty_like(df1)\n",
    "testPredictPlot[:, :] = numpy.nan\n",
    "testPredictPlot[len(train_predict)+(look_back*2)+1:len(df1)-1, :] = test_predict\n",
    "# plot baseline and predictions\n",
    "plt.plot(scaler.inverse_transform(df1))\n",
    "plt.plot(trainPredictPlot)\n",
    "plt.plot(testPredictPlot)\n",
    "plt.show()"
   ]
  },
  {
   "cell_type": "code",
   "execution_count": 270,
   "metadata": {},
   "outputs": [
    {
     "data": {
      "text/plain": [
       "369"
      ]
     },
     "execution_count": 270,
     "metadata": {},
     "output_type": "execute_result"
    }
   ],
   "source": [
    "len(test_data)"
   ]
  },
  {
   "cell_type": "code",
   "execution_count": 271,
   "metadata": {},
   "outputs": [
    {
     "data": {
      "text/plain": [
       "(1, 100)"
      ]
     },
     "execution_count": 271,
     "metadata": {},
     "output_type": "execute_result"
    }
   ],
   "source": [
    "x_input=test_data[269:].reshape(1,-1)\n",
    "x_input.shape\n"
   ]
  },
  {
   "cell_type": "code",
   "execution_count": null,
   "metadata": {},
   "outputs": [],
   "source": []
  },
  {
   "cell_type": "code",
   "execution_count": null,
   "metadata": {},
   "outputs": [],
   "source": []
  },
  {
   "cell_type": "code",
   "execution_count": 272,
   "metadata": {},
   "outputs": [],
   "source": [
    "temp_input=list(x_input)\n",
    "temp_input=temp_input[0].tolist()"
   ]
  },
  {
   "cell_type": "code",
   "execution_count": 273,
   "metadata": {},
   "outputs": [
    {
     "data": {
      "text/plain": [
       "[0.8510371297035911,\n",
       " 0.8299083089295721,\n",
       " 0.8424505175619575,\n",
       " 0.8226724193339651,\n",
       " 0.7996140280011174,\n",
       " 0.8273998903579417,\n",
       " 0.795368949616848,\n",
       " 0.7974915466960996,\n",
       " 0.8074287656095264,\n",
       " 0.866087756907607,\n",
       " 0.8566328148596537,\n",
       " 0.8536420036483162,\n",
       " 0.8467920513193216,\n",
       " 0.848239229238443,\n",
       " 0.8423540621888627,\n",
       " 0.849782862530659,\n",
       " 0.8438012401079841,\n",
       " 0.8355041098598682,\n",
       " 0.8828750439242617,\n",
       " 0.8703328352918763,\n",
       " 0.8699468980252639,\n",
       " 0.860106134484932,\n",
       " 0.8762180023414566,\n",
       " 0.8485287111319607,\n",
       " 0.8093583361683548,\n",
       " 0.8153400743652633,\n",
       " 0.8134105038064349,\n",
       " 0.8492040145178573,\n",
       " 0.8429329102016646,\n",
       " 0.8380125284314986,\n",
       " 0.8576941712863962,\n",
       " 0.8547998154481534,\n",
       " 0.8377230465379809,\n",
       " 0.8425469729350522,\n",
       " 0.8173661002971867,\n",
       " 0.79999996526773,\n",
       " 0.7903521124735874,\n",
       " 0.8097442734349672,\n",
       " 0.8377230465379809,\n",
       " 0.8429329102016646,\n",
       " 0.8373371092713685,\n",
       " 0.8339603607934184,\n",
       " 0.8261456231850096,\n",
       " 0.8223829374404473,\n",
       " 0.7833091336241697,\n",
       " 0.7945007354847621,\n",
       " 0.8123492631539259,\n",
       " 0.837144198525179,\n",
       " 0.8583694746722929,\n",
       " 0.845441328773295,\n",
       " 0.8612638305105357,\n",
       " 0.8721659504776101,\n",
       " 0.8576941712863962,\n",
       " 0.8359865024995753,\n",
       " 0.8391702244571023,\n",
       " 0.8301977908230899,\n",
       " 0.8452484180271055,\n",
       " 0.8505547370638841,\n",
       " 0.8155329851114529,\n",
       " 0.8215147233083614,\n",
       " 0.8231548119736721,\n",
       " 0.8345393245804539,\n",
       " 0.7594789835323309,\n",
       " 0.7321755138152138,\n",
       " 0.7411480632234598,\n",
       " 0.7311142731627048,\n",
       " 0.7224312056479764,\n",
       " 0.6845152136315361,\n",
       " 0.6845152136315361,\n",
       " 0.6089724799437058,\n",
       " 0.4625180282189273,\n",
       " 0.5114327113497706,\n",
       " 0.3975880483788877,\n",
       " 0.3588036685690109,\n",
       " 0.3270622097214352,\n",
       " 0.24042450320745756,\n",
       " 0.241582257120178,\n",
       " 0.01003379006075511,\n",
       " 0.0,\n",
       " 0.04582730077217745,\n",
       " 0.07621803707372676,\n",
       " 0.10911724983402327,\n",
       " 0.12648338486348,\n",
       " 0.14693678647736885,\n",
       " 0.1067052866354875,\n",
       " 0.04331888220054714,\n",
       " 0.1652677067862398,\n",
       " 0.1700916331833111,\n",
       " 0.2252773627432304,\n",
       " 0.22431257746381605,\n",
       " 0.21987458833335716,\n",
       " 0.2315484670594231,\n",
       " 0.34134102027934277,\n",
       " 0.2940665415880439,\n",
       " 0.227206933302059,\n",
       " 0.24708154479026279,\n",
       " 0.24418718895201996,\n",
       " 0.19479017106858632,\n",
       " 0.2395561733011381,\n",
       " 0.2940665415880439]"
      ]
     },
     "execution_count": 273,
     "metadata": {},
     "output_type": "execute_result"
    }
   ],
   "source": [
    "temp_input"
   ]
  },
  {
   "cell_type": "code",
   "execution_count": 274,
   "metadata": {},
   "outputs": [
    {
     "name": "stdout",
     "output_type": "stream",
     "text": [
      "[0.22779933]\n",
      "101\n",
      "1 day input [0.82990831 0.84245052 0.82267242 0.79961403 0.82739989 0.79536895\n",
      " 0.79749155 0.80742877 0.86608776 0.85663281 0.853642   0.84679205\n",
      " 0.84823923 0.84235406 0.84978286 0.84380124 0.83550411 0.88287504\n",
      " 0.87033284 0.8699469  0.86010613 0.876218   0.84852871 0.80935834\n",
      " 0.81534007 0.8134105  0.84920401 0.84293291 0.83801253 0.85769417\n",
      " 0.85479982 0.83772305 0.84254697 0.8173661  0.79999997 0.79035211\n",
      " 0.80974427 0.83772305 0.84293291 0.83733711 0.83396036 0.82614562\n",
      " 0.82238294 0.78330913 0.79450074 0.81234926 0.8371442  0.85836947\n",
      " 0.84544133 0.86126383 0.87216595 0.85769417 0.8359865  0.83917022\n",
      " 0.83019779 0.84524842 0.85055474 0.81553299 0.82151472 0.82315481\n",
      " 0.83453932 0.75947898 0.73217551 0.74114806 0.73111427 0.72243121\n",
      " 0.68451521 0.68451521 0.60897248 0.46251803 0.51143271 0.39758805\n",
      " 0.35880367 0.32706221 0.2404245  0.24158226 0.01003379 0.\n",
      " 0.0458273  0.07621804 0.10911725 0.12648338 0.14693679 0.10670529\n",
      " 0.04331888 0.16526771 0.17009163 0.22527736 0.22431258 0.21987459\n",
      " 0.23154847 0.34134102 0.29406654 0.22720693 0.24708154 0.24418719\n",
      " 0.19479017 0.23955617 0.29406654 0.22779933]\n",
      "1 day output [[0.23307244]]\n",
      "2 day input [0.84245052 0.82267242 0.79961403 0.82739989 0.79536895 0.79749155\n",
      " 0.80742877 0.86608776 0.85663281 0.853642   0.84679205 0.84823923\n",
      " 0.84235406 0.84978286 0.84380124 0.83550411 0.88287504 0.87033284\n",
      " 0.8699469  0.86010613 0.876218   0.84852871 0.80935834 0.81534007\n",
      " 0.8134105  0.84920401 0.84293291 0.83801253 0.85769417 0.85479982\n",
      " 0.83772305 0.84254697 0.8173661  0.79999997 0.79035211 0.80974427\n",
      " 0.83772305 0.84293291 0.83733711 0.83396036 0.82614562 0.82238294\n",
      " 0.78330913 0.79450074 0.81234926 0.8371442  0.85836947 0.84544133\n",
      " 0.86126383 0.87216595 0.85769417 0.8359865  0.83917022 0.83019779\n",
      " 0.84524842 0.85055474 0.81553299 0.82151472 0.82315481 0.83453932\n",
      " 0.75947898 0.73217551 0.74114806 0.73111427 0.72243121 0.68451521\n",
      " 0.68451521 0.60897248 0.46251803 0.51143271 0.39758805 0.35880367\n",
      " 0.32706221 0.2404245  0.24158226 0.01003379 0.         0.0458273\n",
      " 0.07621804 0.10911725 0.12648338 0.14693679 0.10670529 0.04331888\n",
      " 0.16526771 0.17009163 0.22527736 0.22431258 0.21987459 0.23154847\n",
      " 0.34134102 0.29406654 0.22720693 0.24708154 0.24418719 0.19479017\n",
      " 0.23955617 0.29406654 0.22779933 0.23307244]\n",
      "2 day output [[0.23786677]]\n",
      "3 day input [0.82267242 0.79961403 0.82739989 0.79536895 0.79749155 0.80742877\n",
      " 0.86608776 0.85663281 0.853642   0.84679205 0.84823923 0.84235406\n",
      " 0.84978286 0.84380124 0.83550411 0.88287504 0.87033284 0.8699469\n",
      " 0.86010613 0.876218   0.84852871 0.80935834 0.81534007 0.8134105\n",
      " 0.84920401 0.84293291 0.83801253 0.85769417 0.85479982 0.83772305\n",
      " 0.84254697 0.8173661  0.79999997 0.79035211 0.80974427 0.83772305\n",
      " 0.84293291 0.83733711 0.83396036 0.82614562 0.82238294 0.78330913\n",
      " 0.79450074 0.81234926 0.8371442  0.85836947 0.84544133 0.86126383\n",
      " 0.87216595 0.85769417 0.8359865  0.83917022 0.83019779 0.84524842\n",
      " 0.85055474 0.81553299 0.82151472 0.82315481 0.83453932 0.75947898\n",
      " 0.73217551 0.74114806 0.73111427 0.72243121 0.68451521 0.68451521\n",
      " 0.60897248 0.46251803 0.51143271 0.39758805 0.35880367 0.32706221\n",
      " 0.2404245  0.24158226 0.01003379 0.         0.0458273  0.07621804\n",
      " 0.10911725 0.12648338 0.14693679 0.10670529 0.04331888 0.16526771\n",
      " 0.17009163 0.22527736 0.22431258 0.21987459 0.23154847 0.34134102\n",
      " 0.29406654 0.22720693 0.24708154 0.24418719 0.19479017 0.23955617\n",
      " 0.29406654 0.22779933 0.23307244 0.23786677]\n",
      "3 day output [[0.24211359]]\n",
      "4 day input [0.79961403 0.82739989 0.79536895 0.79749155 0.80742877 0.86608776\n",
      " 0.85663281 0.853642   0.84679205 0.84823923 0.84235406 0.84978286\n",
      " 0.84380124 0.83550411 0.88287504 0.87033284 0.8699469  0.86010613\n",
      " 0.876218   0.84852871 0.80935834 0.81534007 0.8134105  0.84920401\n",
      " 0.84293291 0.83801253 0.85769417 0.85479982 0.83772305 0.84254697\n",
      " 0.8173661  0.79999997 0.79035211 0.80974427 0.83772305 0.84293291\n",
      " 0.83733711 0.83396036 0.82614562 0.82238294 0.78330913 0.79450074\n",
      " 0.81234926 0.8371442  0.85836947 0.84544133 0.86126383 0.87216595\n",
      " 0.85769417 0.8359865  0.83917022 0.83019779 0.84524842 0.85055474\n",
      " 0.81553299 0.82151472 0.82315481 0.83453932 0.75947898 0.73217551\n",
      " 0.74114806 0.73111427 0.72243121 0.68451521 0.68451521 0.60897248\n",
      " 0.46251803 0.51143271 0.39758805 0.35880367 0.32706221 0.2404245\n",
      " 0.24158226 0.01003379 0.         0.0458273  0.07621804 0.10911725\n",
      " 0.12648338 0.14693679 0.10670529 0.04331888 0.16526771 0.17009163\n",
      " 0.22527736 0.22431258 0.21987459 0.23154847 0.34134102 0.29406654\n",
      " 0.22720693 0.24708154 0.24418719 0.19479017 0.23955617 0.29406654\n",
      " 0.22779933 0.23307244 0.23786677 0.24211359]\n",
      "4 day output [[0.24582541]]\n",
      "5 day input [0.82739989 0.79536895 0.79749155 0.80742877 0.86608776 0.85663281\n",
      " 0.853642   0.84679205 0.84823923 0.84235406 0.84978286 0.84380124\n",
      " 0.83550411 0.88287504 0.87033284 0.8699469  0.86010613 0.876218\n",
      " 0.84852871 0.80935834 0.81534007 0.8134105  0.84920401 0.84293291\n",
      " 0.83801253 0.85769417 0.85479982 0.83772305 0.84254697 0.8173661\n",
      " 0.79999997 0.79035211 0.80974427 0.83772305 0.84293291 0.83733711\n",
      " 0.83396036 0.82614562 0.82238294 0.78330913 0.79450074 0.81234926\n",
      " 0.8371442  0.85836947 0.84544133 0.86126383 0.87216595 0.85769417\n",
      " 0.8359865  0.83917022 0.83019779 0.84524842 0.85055474 0.81553299\n",
      " 0.82151472 0.82315481 0.83453932 0.75947898 0.73217551 0.74114806\n",
      " 0.73111427 0.72243121 0.68451521 0.68451521 0.60897248 0.46251803\n",
      " 0.51143271 0.39758805 0.35880367 0.32706221 0.2404245  0.24158226\n",
      " 0.01003379 0.         0.0458273  0.07621804 0.10911725 0.12648338\n",
      " 0.14693679 0.10670529 0.04331888 0.16526771 0.17009163 0.22527736\n",
      " 0.22431258 0.21987459 0.23154847 0.34134102 0.29406654 0.22720693\n",
      " 0.24708154 0.24418719 0.19479017 0.23955617 0.29406654 0.22779933\n",
      " 0.23307244 0.23786677 0.24211359 0.24582541]\n",
      "5 day output [[0.24905916]]\n",
      "6 day input [0.79536895 0.79749155 0.80742877 0.86608776 0.85663281 0.853642\n",
      " 0.84679205 0.84823923 0.84235406 0.84978286 0.84380124 0.83550411\n",
      " 0.88287504 0.87033284 0.8699469  0.86010613 0.876218   0.84852871\n",
      " 0.80935834 0.81534007 0.8134105  0.84920401 0.84293291 0.83801253\n",
      " 0.85769417 0.85479982 0.83772305 0.84254697 0.8173661  0.79999997\n",
      " 0.79035211 0.80974427 0.83772305 0.84293291 0.83733711 0.83396036\n",
      " 0.82614562 0.82238294 0.78330913 0.79450074 0.81234926 0.8371442\n",
      " 0.85836947 0.84544133 0.86126383 0.87216595 0.85769417 0.8359865\n",
      " 0.83917022 0.83019779 0.84524842 0.85055474 0.81553299 0.82151472\n",
      " 0.82315481 0.83453932 0.75947898 0.73217551 0.74114806 0.73111427\n",
      " 0.72243121 0.68451521 0.68451521 0.60897248 0.46251803 0.51143271\n",
      " 0.39758805 0.35880367 0.32706221 0.2404245  0.24158226 0.01003379\n",
      " 0.         0.0458273  0.07621804 0.10911725 0.12648338 0.14693679\n",
      " 0.10670529 0.04331888 0.16526771 0.17009163 0.22527736 0.22431258\n",
      " 0.21987459 0.23154847 0.34134102 0.29406654 0.22720693 0.24708154\n",
      " 0.24418719 0.19479017 0.23955617 0.29406654 0.22779933 0.23307244\n",
      " 0.23786677 0.24211359 0.24582541 0.24905916]\n",
      "6 day output [[0.25189048]]\n",
      "7 day input [0.79749155 0.80742877 0.86608776 0.85663281 0.853642   0.84679205\n",
      " 0.84823923 0.84235406 0.84978286 0.84380124 0.83550411 0.88287504\n",
      " 0.87033284 0.8699469  0.86010613 0.876218   0.84852871 0.80935834\n",
      " 0.81534007 0.8134105  0.84920401 0.84293291 0.83801253 0.85769417\n",
      " 0.85479982 0.83772305 0.84254697 0.8173661  0.79999997 0.79035211\n",
      " 0.80974427 0.83772305 0.84293291 0.83733711 0.83396036 0.82614562\n",
      " 0.82238294 0.78330913 0.79450074 0.81234926 0.8371442  0.85836947\n",
      " 0.84544133 0.86126383 0.87216595 0.85769417 0.8359865  0.83917022\n",
      " 0.83019779 0.84524842 0.85055474 0.81553299 0.82151472 0.82315481\n",
      " 0.83453932 0.75947898 0.73217551 0.74114806 0.73111427 0.72243121\n",
      " 0.68451521 0.68451521 0.60897248 0.46251803 0.51143271 0.39758805\n",
      " 0.35880367 0.32706221 0.2404245  0.24158226 0.01003379 0.\n",
      " 0.0458273  0.07621804 0.10911725 0.12648338 0.14693679 0.10670529\n",
      " 0.04331888 0.16526771 0.17009163 0.22527736 0.22431258 0.21987459\n",
      " 0.23154847 0.34134102 0.29406654 0.22720693 0.24708154 0.24418719\n",
      " 0.19479017 0.23955617 0.29406654 0.22779933 0.23307244 0.23786677\n",
      " 0.24211359 0.24582541 0.24905916 0.25189048]\n",
      "7 day output [[0.2543984]]\n",
      "8 day input [0.80742877 0.86608776 0.85663281 0.853642   0.84679205 0.84823923\n",
      " 0.84235406 0.84978286 0.84380124 0.83550411 0.88287504 0.87033284\n",
      " 0.8699469  0.86010613 0.876218   0.84852871 0.80935834 0.81534007\n",
      " 0.8134105  0.84920401 0.84293291 0.83801253 0.85769417 0.85479982\n",
      " 0.83772305 0.84254697 0.8173661  0.79999997 0.79035211 0.80974427\n",
      " 0.83772305 0.84293291 0.83733711 0.83396036 0.82614562 0.82238294\n",
      " 0.78330913 0.79450074 0.81234926 0.8371442  0.85836947 0.84544133\n",
      " 0.86126383 0.87216595 0.85769417 0.8359865  0.83917022 0.83019779\n",
      " 0.84524842 0.85055474 0.81553299 0.82151472 0.82315481 0.83453932\n",
      " 0.75947898 0.73217551 0.74114806 0.73111427 0.72243121 0.68451521\n",
      " 0.68451521 0.60897248 0.46251803 0.51143271 0.39758805 0.35880367\n",
      " 0.32706221 0.2404245  0.24158226 0.01003379 0.         0.0458273\n",
      " 0.07621804 0.10911725 0.12648338 0.14693679 0.10670529 0.04331888\n",
      " 0.16526771 0.17009163 0.22527736 0.22431258 0.21987459 0.23154847\n",
      " 0.34134102 0.29406654 0.22720693 0.24708154 0.24418719 0.19479017\n",
      " 0.23955617 0.29406654 0.22779933 0.23307244 0.23786677 0.24211359\n",
      " 0.24582541 0.24905916 0.25189048 0.25439841]\n",
      "8 day output [[0.25665596]]\n",
      "9 day input [0.86608776 0.85663281 0.853642   0.84679205 0.84823923 0.84235406\n",
      " 0.84978286 0.84380124 0.83550411 0.88287504 0.87033284 0.8699469\n",
      " 0.86010613 0.876218   0.84852871 0.80935834 0.81534007 0.8134105\n",
      " 0.84920401 0.84293291 0.83801253 0.85769417 0.85479982 0.83772305\n",
      " 0.84254697 0.8173661  0.79999997 0.79035211 0.80974427 0.83772305\n",
      " 0.84293291 0.83733711 0.83396036 0.82614562 0.82238294 0.78330913\n",
      " 0.79450074 0.81234926 0.8371442  0.85836947 0.84544133 0.86126383\n",
      " 0.87216595 0.85769417 0.8359865  0.83917022 0.83019779 0.84524842\n",
      " 0.85055474 0.81553299 0.82151472 0.82315481 0.83453932 0.75947898\n",
      " 0.73217551 0.74114806 0.73111427 0.72243121 0.68451521 0.68451521\n",
      " 0.60897248 0.46251803 0.51143271 0.39758805 0.35880367 0.32706221\n",
      " 0.2404245  0.24158226 0.01003379 0.         0.0458273  0.07621804\n",
      " 0.10911725 0.12648338 0.14693679 0.10670529 0.04331888 0.16526771\n",
      " 0.17009163 0.22527736 0.22431258 0.21987459 0.23154847 0.34134102\n",
      " 0.29406654 0.22720693 0.24708154 0.24418719 0.19479017 0.23955617\n",
      " 0.29406654 0.22779933 0.23307244 0.23786677 0.24211359 0.24582541\n",
      " 0.24905916 0.25189048 0.25439841 0.25665596]\n"
     ]
    },
    {
     "name": "stdout",
     "output_type": "stream",
     "text": [
      "9 day output [[0.25872576]]\n",
      "10 day input [0.85663281 0.853642   0.84679205 0.84823923 0.84235406 0.84978286\n",
      " 0.84380124 0.83550411 0.88287504 0.87033284 0.8699469  0.86010613\n",
      " 0.876218   0.84852871 0.80935834 0.81534007 0.8134105  0.84920401\n",
      " 0.84293291 0.83801253 0.85769417 0.85479982 0.83772305 0.84254697\n",
      " 0.8173661  0.79999997 0.79035211 0.80974427 0.83772305 0.84293291\n",
      " 0.83733711 0.83396036 0.82614562 0.82238294 0.78330913 0.79450074\n",
      " 0.81234926 0.8371442  0.85836947 0.84544133 0.86126383 0.87216595\n",
      " 0.85769417 0.8359865  0.83917022 0.83019779 0.84524842 0.85055474\n",
      " 0.81553299 0.82151472 0.82315481 0.83453932 0.75947898 0.73217551\n",
      " 0.74114806 0.73111427 0.72243121 0.68451521 0.68451521 0.60897248\n",
      " 0.46251803 0.51143271 0.39758805 0.35880367 0.32706221 0.2404245\n",
      " 0.24158226 0.01003379 0.         0.0458273  0.07621804 0.10911725\n",
      " 0.12648338 0.14693679 0.10670529 0.04331888 0.16526771 0.17009163\n",
      " 0.22527736 0.22431258 0.21987459 0.23154847 0.34134102 0.29406654\n",
      " 0.22720693 0.24708154 0.24418719 0.19479017 0.23955617 0.29406654\n",
      " 0.22779933 0.23307244 0.23786677 0.24211359 0.24582541 0.24905916\n",
      " 0.25189048 0.25439841 0.25665596 0.25872576]\n",
      "10 day output [[0.26065898]]\n",
      "11 day input [0.853642   0.84679205 0.84823923 0.84235406 0.84978286 0.84380124\n",
      " 0.83550411 0.88287504 0.87033284 0.8699469  0.86010613 0.876218\n",
      " 0.84852871 0.80935834 0.81534007 0.8134105  0.84920401 0.84293291\n",
      " 0.83801253 0.85769417 0.85479982 0.83772305 0.84254697 0.8173661\n",
      " 0.79999997 0.79035211 0.80974427 0.83772305 0.84293291 0.83733711\n",
      " 0.83396036 0.82614562 0.82238294 0.78330913 0.79450074 0.81234926\n",
      " 0.8371442  0.85836947 0.84544133 0.86126383 0.87216595 0.85769417\n",
      " 0.8359865  0.83917022 0.83019779 0.84524842 0.85055474 0.81553299\n",
      " 0.82151472 0.82315481 0.83453932 0.75947898 0.73217551 0.74114806\n",
      " 0.73111427 0.72243121 0.68451521 0.68451521 0.60897248 0.46251803\n",
      " 0.51143271 0.39758805 0.35880367 0.32706221 0.2404245  0.24158226\n",
      " 0.01003379 0.         0.0458273  0.07621804 0.10911725 0.12648338\n",
      " 0.14693679 0.10670529 0.04331888 0.16526771 0.17009163 0.22527736\n",
      " 0.22431258 0.21987459 0.23154847 0.34134102 0.29406654 0.22720693\n",
      " 0.24708154 0.24418719 0.19479017 0.23955617 0.29406654 0.22779933\n",
      " 0.23307244 0.23786677 0.24211359 0.24582541 0.24905916 0.25189048\n",
      " 0.25439841 0.25665596 0.25872576 0.26065898]\n",
      "11 day output [[0.26249495]]\n",
      "12 day input [0.84679205 0.84823923 0.84235406 0.84978286 0.84380124 0.83550411\n",
      " 0.88287504 0.87033284 0.8699469  0.86010613 0.876218   0.84852871\n",
      " 0.80935834 0.81534007 0.8134105  0.84920401 0.84293291 0.83801253\n",
      " 0.85769417 0.85479982 0.83772305 0.84254697 0.8173661  0.79999997\n",
      " 0.79035211 0.80974427 0.83772305 0.84293291 0.83733711 0.83396036\n",
      " 0.82614562 0.82238294 0.78330913 0.79450074 0.81234926 0.8371442\n",
      " 0.85836947 0.84544133 0.86126383 0.87216595 0.85769417 0.8359865\n",
      " 0.83917022 0.83019779 0.84524842 0.85055474 0.81553299 0.82151472\n",
      " 0.82315481 0.83453932 0.75947898 0.73217551 0.74114806 0.73111427\n",
      " 0.72243121 0.68451521 0.68451521 0.60897248 0.46251803 0.51143271\n",
      " 0.39758805 0.35880367 0.32706221 0.2404245  0.24158226 0.01003379\n",
      " 0.         0.0458273  0.07621804 0.10911725 0.12648338 0.14693679\n",
      " 0.10670529 0.04331888 0.16526771 0.17009163 0.22527736 0.22431258\n",
      " 0.21987459 0.23154847 0.34134102 0.29406654 0.22720693 0.24708154\n",
      " 0.24418719 0.19479017 0.23955617 0.29406654 0.22779933 0.23307244\n",
      " 0.23786677 0.24211359 0.24582541 0.24905916 0.25189048 0.25439841\n",
      " 0.25665596 0.25872576 0.26065898 0.26249495]\n",
      "12 day output [[0.26426333]]\n",
      "13 day input [0.84823923 0.84235406 0.84978286 0.84380124 0.83550411 0.88287504\n",
      " 0.87033284 0.8699469  0.86010613 0.876218   0.84852871 0.80935834\n",
      " 0.81534007 0.8134105  0.84920401 0.84293291 0.83801253 0.85769417\n",
      " 0.85479982 0.83772305 0.84254697 0.8173661  0.79999997 0.79035211\n",
      " 0.80974427 0.83772305 0.84293291 0.83733711 0.83396036 0.82614562\n",
      " 0.82238294 0.78330913 0.79450074 0.81234926 0.8371442  0.85836947\n",
      " 0.84544133 0.86126383 0.87216595 0.85769417 0.8359865  0.83917022\n",
      " 0.83019779 0.84524842 0.85055474 0.81553299 0.82151472 0.82315481\n",
      " 0.83453932 0.75947898 0.73217551 0.74114806 0.73111427 0.72243121\n",
      " 0.68451521 0.68451521 0.60897248 0.46251803 0.51143271 0.39758805\n",
      " 0.35880367 0.32706221 0.2404245  0.24158226 0.01003379 0.\n",
      " 0.0458273  0.07621804 0.10911725 0.12648338 0.14693679 0.10670529\n",
      " 0.04331888 0.16526771 0.17009163 0.22527736 0.22431258 0.21987459\n",
      " 0.23154847 0.34134102 0.29406654 0.22720693 0.24708154 0.24418719\n",
      " 0.19479017 0.23955617 0.29406654 0.22779933 0.23307244 0.23786677\n",
      " 0.24211359 0.24582541 0.24905916 0.25189048 0.25439841 0.25665596\n",
      " 0.25872576 0.26065898 0.26249495 0.26426333]\n",
      "13 day output [[0.26598507]]\n",
      "14 day input [0.84235406 0.84978286 0.84380124 0.83550411 0.88287504 0.87033284\n",
      " 0.8699469  0.86010613 0.876218   0.84852871 0.80935834 0.81534007\n",
      " 0.8134105  0.84920401 0.84293291 0.83801253 0.85769417 0.85479982\n",
      " 0.83772305 0.84254697 0.8173661  0.79999997 0.79035211 0.80974427\n",
      " 0.83772305 0.84293291 0.83733711 0.83396036 0.82614562 0.82238294\n",
      " 0.78330913 0.79450074 0.81234926 0.8371442  0.85836947 0.84544133\n",
      " 0.86126383 0.87216595 0.85769417 0.8359865  0.83917022 0.83019779\n",
      " 0.84524842 0.85055474 0.81553299 0.82151472 0.82315481 0.83453932\n",
      " 0.75947898 0.73217551 0.74114806 0.73111427 0.72243121 0.68451521\n",
      " 0.68451521 0.60897248 0.46251803 0.51143271 0.39758805 0.35880367\n",
      " 0.32706221 0.2404245  0.24158226 0.01003379 0.         0.0458273\n",
      " 0.07621804 0.10911725 0.12648338 0.14693679 0.10670529 0.04331888\n",
      " 0.16526771 0.17009163 0.22527736 0.22431258 0.21987459 0.23154847\n",
      " 0.34134102 0.29406654 0.22720693 0.24708154 0.24418719 0.19479017\n",
      " 0.23955617 0.29406654 0.22779933 0.23307244 0.23786677 0.24211359\n",
      " 0.24582541 0.24905916 0.25189048 0.25439841 0.25665596 0.25872576\n",
      " 0.26065898 0.26249495 0.26426333 0.26598507]\n",
      "14 day output [[0.2676747]]\n",
      "15 day input [0.84978286 0.84380124 0.83550411 0.88287504 0.87033284 0.8699469\n",
      " 0.86010613 0.876218   0.84852871 0.80935834 0.81534007 0.8134105\n",
      " 0.84920401 0.84293291 0.83801253 0.85769417 0.85479982 0.83772305\n",
      " 0.84254697 0.8173661  0.79999997 0.79035211 0.80974427 0.83772305\n",
      " 0.84293291 0.83733711 0.83396036 0.82614562 0.82238294 0.78330913\n",
      " 0.79450074 0.81234926 0.8371442  0.85836947 0.84544133 0.86126383\n",
      " 0.87216595 0.85769417 0.8359865  0.83917022 0.83019779 0.84524842\n",
      " 0.85055474 0.81553299 0.82151472 0.82315481 0.83453932 0.75947898\n",
      " 0.73217551 0.74114806 0.73111427 0.72243121 0.68451521 0.68451521\n",
      " 0.60897248 0.46251803 0.51143271 0.39758805 0.35880367 0.32706221\n",
      " 0.2404245  0.24158226 0.01003379 0.         0.0458273  0.07621804\n",
      " 0.10911725 0.12648338 0.14693679 0.10670529 0.04331888 0.16526771\n",
      " 0.17009163 0.22527736 0.22431258 0.21987459 0.23154847 0.34134102\n",
      " 0.29406654 0.22720693 0.24708154 0.24418719 0.19479017 0.23955617\n",
      " 0.29406654 0.22779933 0.23307244 0.23786677 0.24211359 0.24582541\n",
      " 0.24905916 0.25189048 0.25439841 0.25665596 0.25872576 0.26065898\n",
      " 0.26249495 0.26426333 0.26598507 0.26767471]\n",
      "15 day output [[0.26934186]]\n",
      "16 day input [0.84380124 0.83550411 0.88287504 0.87033284 0.8699469  0.86010613\n",
      " 0.876218   0.84852871 0.80935834 0.81534007 0.8134105  0.84920401\n",
      " 0.84293291 0.83801253 0.85769417 0.85479982 0.83772305 0.84254697\n",
      " 0.8173661  0.79999997 0.79035211 0.80974427 0.83772305 0.84293291\n",
      " 0.83733711 0.83396036 0.82614562 0.82238294 0.78330913 0.79450074\n",
      " 0.81234926 0.8371442  0.85836947 0.84544133 0.86126383 0.87216595\n",
      " 0.85769417 0.8359865  0.83917022 0.83019779 0.84524842 0.85055474\n",
      " 0.81553299 0.82151472 0.82315481 0.83453932 0.75947898 0.73217551\n",
      " 0.74114806 0.73111427 0.72243121 0.68451521 0.68451521 0.60897248\n",
      " 0.46251803 0.51143271 0.39758805 0.35880367 0.32706221 0.2404245\n",
      " 0.24158226 0.01003379 0.         0.0458273  0.07621804 0.10911725\n",
      " 0.12648338 0.14693679 0.10670529 0.04331888 0.16526771 0.17009163\n",
      " 0.22527736 0.22431258 0.21987459 0.23154847 0.34134102 0.29406654\n",
      " 0.22720693 0.24708154 0.24418719 0.19479017 0.23955617 0.29406654\n",
      " 0.22779933 0.23307244 0.23786677 0.24211359 0.24582541 0.24905916\n",
      " 0.25189048 0.25439841 0.25665596 0.25872576 0.26065898 0.26249495\n",
      " 0.26426333 0.26598507 0.26767471 0.26934186]\n",
      "16 day output [[0.2709923]]\n",
      "17 day input [0.83550411 0.88287504 0.87033284 0.8699469  0.86010613 0.876218\n",
      " 0.84852871 0.80935834 0.81534007 0.8134105  0.84920401 0.84293291\n",
      " 0.83801253 0.85769417 0.85479982 0.83772305 0.84254697 0.8173661\n",
      " 0.79999997 0.79035211 0.80974427 0.83772305 0.84293291 0.83733711\n",
      " 0.83396036 0.82614562 0.82238294 0.78330913 0.79450074 0.81234926\n",
      " 0.8371442  0.85836947 0.84544133 0.86126383 0.87216595 0.85769417\n",
      " 0.8359865  0.83917022 0.83019779 0.84524842 0.85055474 0.81553299\n",
      " 0.82151472 0.82315481 0.83453932 0.75947898 0.73217551 0.74114806\n",
      " 0.73111427 0.72243121 0.68451521 0.68451521 0.60897248 0.46251803\n",
      " 0.51143271 0.39758805 0.35880367 0.32706221 0.2404245  0.24158226\n",
      " 0.01003379 0.         0.0458273  0.07621804 0.10911725 0.12648338\n",
      " 0.14693679 0.10670529 0.04331888 0.16526771 0.17009163 0.22527736\n",
      " 0.22431258 0.21987459 0.23154847 0.34134102 0.29406654 0.22720693\n",
      " 0.24708154 0.24418719 0.19479017 0.23955617 0.29406654 0.22779933\n",
      " 0.23307244 0.23786677 0.24211359 0.24582541 0.24905916 0.25189048\n",
      " 0.25439841 0.25665596 0.25872576 0.26065898 0.26249495 0.26426333\n",
      " 0.26598507 0.26767471 0.26934186 0.27099231]\n",
      "17 day output [[0.2726293]]\n",
      "18 day input [0.88287504 0.87033284 0.8699469  0.86010613 0.876218   0.84852871\n",
      " 0.80935834 0.81534007 0.8134105  0.84920401 0.84293291 0.83801253\n",
      " 0.85769417 0.85479982 0.83772305 0.84254697 0.8173661  0.79999997\n",
      " 0.79035211 0.80974427 0.83772305 0.84293291 0.83733711 0.83396036\n",
      " 0.82614562 0.82238294 0.78330913 0.79450074 0.81234926 0.8371442\n",
      " 0.85836947 0.84544133 0.86126383 0.87216595 0.85769417 0.8359865\n",
      " 0.83917022 0.83019779 0.84524842 0.85055474 0.81553299 0.82151472\n",
      " 0.82315481 0.83453932 0.75947898 0.73217551 0.74114806 0.73111427\n",
      " 0.72243121 0.68451521 0.68451521 0.60897248 0.46251803 0.51143271\n",
      " 0.39758805 0.35880367 0.32706221 0.2404245  0.24158226 0.01003379\n",
      " 0.         0.0458273  0.07621804 0.10911725 0.12648338 0.14693679\n",
      " 0.10670529 0.04331888 0.16526771 0.17009163 0.22527736 0.22431258\n",
      " 0.21987459 0.23154847 0.34134102 0.29406654 0.22720693 0.24708154\n",
      " 0.24418719 0.19479017 0.23955617 0.29406654 0.22779933 0.23307244\n",
      " 0.23786677 0.24211359 0.24582541 0.24905916 0.25189048 0.25439841\n",
      " 0.25665596 0.25872576 0.26065898 0.26249495 0.26426333 0.26598507\n",
      " 0.26767471 0.26934186 0.27099231 0.27262929]\n"
     ]
    },
    {
     "name": "stdout",
     "output_type": "stream",
     "text": [
      "18 day output [[0.27425453]]\n",
      "19 day input [0.87033284 0.8699469  0.86010613 0.876218   0.84852871 0.80935834\n",
      " 0.81534007 0.8134105  0.84920401 0.84293291 0.83801253 0.85769417\n",
      " 0.85479982 0.83772305 0.84254697 0.8173661  0.79999997 0.79035211\n",
      " 0.80974427 0.83772305 0.84293291 0.83733711 0.83396036 0.82614562\n",
      " 0.82238294 0.78330913 0.79450074 0.81234926 0.8371442  0.85836947\n",
      " 0.84544133 0.86126383 0.87216595 0.85769417 0.8359865  0.83917022\n",
      " 0.83019779 0.84524842 0.85055474 0.81553299 0.82151472 0.82315481\n",
      " 0.83453932 0.75947898 0.73217551 0.74114806 0.73111427 0.72243121\n",
      " 0.68451521 0.68451521 0.60897248 0.46251803 0.51143271 0.39758805\n",
      " 0.35880367 0.32706221 0.2404245  0.24158226 0.01003379 0.\n",
      " 0.0458273  0.07621804 0.10911725 0.12648338 0.14693679 0.10670529\n",
      " 0.04331888 0.16526771 0.17009163 0.22527736 0.22431258 0.21987459\n",
      " 0.23154847 0.34134102 0.29406654 0.22720693 0.24708154 0.24418719\n",
      " 0.19479017 0.23955617 0.29406654 0.22779933 0.23307244 0.23786677\n",
      " 0.24211359 0.24582541 0.24905916 0.25189048 0.25439841 0.25665596\n",
      " 0.25872576 0.26065898 0.26249495 0.26426333 0.26598507 0.26767471\n",
      " 0.26934186 0.27099231 0.27262929 0.27425453]\n",
      "19 day output [[0.27586845]]\n",
      "20 day input [0.8699469  0.86010613 0.876218   0.84852871 0.80935834 0.81534007\n",
      " 0.8134105  0.84920401 0.84293291 0.83801253 0.85769417 0.85479982\n",
      " 0.83772305 0.84254697 0.8173661  0.79999997 0.79035211 0.80974427\n",
      " 0.83772305 0.84293291 0.83733711 0.83396036 0.82614562 0.82238294\n",
      " 0.78330913 0.79450074 0.81234926 0.8371442  0.85836947 0.84544133\n",
      " 0.86126383 0.87216595 0.85769417 0.8359865  0.83917022 0.83019779\n",
      " 0.84524842 0.85055474 0.81553299 0.82151472 0.82315481 0.83453932\n",
      " 0.75947898 0.73217551 0.74114806 0.73111427 0.72243121 0.68451521\n",
      " 0.68451521 0.60897248 0.46251803 0.51143271 0.39758805 0.35880367\n",
      " 0.32706221 0.2404245  0.24158226 0.01003379 0.         0.0458273\n",
      " 0.07621804 0.10911725 0.12648338 0.14693679 0.10670529 0.04331888\n",
      " 0.16526771 0.17009163 0.22527736 0.22431258 0.21987459 0.23154847\n",
      " 0.34134102 0.29406654 0.22720693 0.24708154 0.24418719 0.19479017\n",
      " 0.23955617 0.29406654 0.22779933 0.23307244 0.23786677 0.24211359\n",
      " 0.24582541 0.24905916 0.25189048 0.25439841 0.25665596 0.25872576\n",
      " 0.26065898 0.26249495 0.26426333 0.26598507 0.26767471 0.26934186\n",
      " 0.27099231 0.27262929 0.27425453 0.27586845]\n",
      "20 day output [[0.27747115]]\n",
      "21 day input [0.86010613 0.876218   0.84852871 0.80935834 0.81534007 0.8134105\n",
      " 0.84920401 0.84293291 0.83801253 0.85769417 0.85479982 0.83772305\n",
      " 0.84254697 0.8173661  0.79999997 0.79035211 0.80974427 0.83772305\n",
      " 0.84293291 0.83733711 0.83396036 0.82614562 0.82238294 0.78330913\n",
      " 0.79450074 0.81234926 0.8371442  0.85836947 0.84544133 0.86126383\n",
      " 0.87216595 0.85769417 0.8359865  0.83917022 0.83019779 0.84524842\n",
      " 0.85055474 0.81553299 0.82151472 0.82315481 0.83453932 0.75947898\n",
      " 0.73217551 0.74114806 0.73111427 0.72243121 0.68451521 0.68451521\n",
      " 0.60897248 0.46251803 0.51143271 0.39758805 0.35880367 0.32706221\n",
      " 0.2404245  0.24158226 0.01003379 0.         0.0458273  0.07621804\n",
      " 0.10911725 0.12648338 0.14693679 0.10670529 0.04331888 0.16526771\n",
      " 0.17009163 0.22527736 0.22431258 0.21987459 0.23154847 0.34134102\n",
      " 0.29406654 0.22720693 0.24708154 0.24418719 0.19479017 0.23955617\n",
      " 0.29406654 0.22779933 0.23307244 0.23786677 0.24211359 0.24582541\n",
      " 0.24905916 0.25189048 0.25439841 0.25665596 0.25872576 0.26065898\n",
      " 0.26249495 0.26426333 0.26598507 0.26767471 0.26934186 0.27099231\n",
      " 0.27262929 0.27425453 0.27586845 0.27747115]\n",
      "21 day output [[0.27906215]]\n",
      "22 day input [0.876218   0.84852871 0.80935834 0.81534007 0.8134105  0.84920401\n",
      " 0.84293291 0.83801253 0.85769417 0.85479982 0.83772305 0.84254697\n",
      " 0.8173661  0.79999997 0.79035211 0.80974427 0.83772305 0.84293291\n",
      " 0.83733711 0.83396036 0.82614562 0.82238294 0.78330913 0.79450074\n",
      " 0.81234926 0.8371442  0.85836947 0.84544133 0.86126383 0.87216595\n",
      " 0.85769417 0.8359865  0.83917022 0.83019779 0.84524842 0.85055474\n",
      " 0.81553299 0.82151472 0.82315481 0.83453932 0.75947898 0.73217551\n",
      " 0.74114806 0.73111427 0.72243121 0.68451521 0.68451521 0.60897248\n",
      " 0.46251803 0.51143271 0.39758805 0.35880367 0.32706221 0.2404245\n",
      " 0.24158226 0.01003379 0.         0.0458273  0.07621804 0.10911725\n",
      " 0.12648338 0.14693679 0.10670529 0.04331888 0.16526771 0.17009163\n",
      " 0.22527736 0.22431258 0.21987459 0.23154847 0.34134102 0.29406654\n",
      " 0.22720693 0.24708154 0.24418719 0.19479017 0.23955617 0.29406654\n",
      " 0.22779933 0.23307244 0.23786677 0.24211359 0.24582541 0.24905916\n",
      " 0.25189048 0.25439841 0.25665596 0.25872576 0.26065898 0.26249495\n",
      " 0.26426333 0.26598507 0.26767471 0.26934186 0.27099231 0.27262929\n",
      " 0.27425453 0.27586845 0.27747115 0.27906215]\n",
      "22 day output [[0.2806409]]\n",
      "23 day input [0.84852871 0.80935834 0.81534007 0.8134105  0.84920401 0.84293291\n",
      " 0.83801253 0.85769417 0.85479982 0.83772305 0.84254697 0.8173661\n",
      " 0.79999997 0.79035211 0.80974427 0.83772305 0.84293291 0.83733711\n",
      " 0.83396036 0.82614562 0.82238294 0.78330913 0.79450074 0.81234926\n",
      " 0.8371442  0.85836947 0.84544133 0.86126383 0.87216595 0.85769417\n",
      " 0.8359865  0.83917022 0.83019779 0.84524842 0.85055474 0.81553299\n",
      " 0.82151472 0.82315481 0.83453932 0.75947898 0.73217551 0.74114806\n",
      " 0.73111427 0.72243121 0.68451521 0.68451521 0.60897248 0.46251803\n",
      " 0.51143271 0.39758805 0.35880367 0.32706221 0.2404245  0.24158226\n",
      " 0.01003379 0.         0.0458273  0.07621804 0.10911725 0.12648338\n",
      " 0.14693679 0.10670529 0.04331888 0.16526771 0.17009163 0.22527736\n",
      " 0.22431258 0.21987459 0.23154847 0.34134102 0.29406654 0.22720693\n",
      " 0.24708154 0.24418719 0.19479017 0.23955617 0.29406654 0.22779933\n",
      " 0.23307244 0.23786677 0.24211359 0.24582541 0.24905916 0.25189048\n",
      " 0.25439841 0.25665596 0.25872576 0.26065898 0.26249495 0.26426333\n",
      " 0.26598507 0.26767471 0.26934186 0.27099231 0.27262929 0.27425453\n",
      " 0.27586845 0.27747115 0.27906215 0.2806409 ]\n",
      "23 day output [[0.28220707]]\n",
      "24 day input [0.80935834 0.81534007 0.8134105  0.84920401 0.84293291 0.83801253\n",
      " 0.85769417 0.85479982 0.83772305 0.84254697 0.8173661  0.79999997\n",
      " 0.79035211 0.80974427 0.83772305 0.84293291 0.83733711 0.83396036\n",
      " 0.82614562 0.82238294 0.78330913 0.79450074 0.81234926 0.8371442\n",
      " 0.85836947 0.84544133 0.86126383 0.87216595 0.85769417 0.8359865\n",
      " 0.83917022 0.83019779 0.84524842 0.85055474 0.81553299 0.82151472\n",
      " 0.82315481 0.83453932 0.75947898 0.73217551 0.74114806 0.73111427\n",
      " 0.72243121 0.68451521 0.68451521 0.60897248 0.46251803 0.51143271\n",
      " 0.39758805 0.35880367 0.32706221 0.2404245  0.24158226 0.01003379\n",
      " 0.         0.0458273  0.07621804 0.10911725 0.12648338 0.14693679\n",
      " 0.10670529 0.04331888 0.16526771 0.17009163 0.22527736 0.22431258\n",
      " 0.21987459 0.23154847 0.34134102 0.29406654 0.22720693 0.24708154\n",
      " 0.24418719 0.19479017 0.23955617 0.29406654 0.22779933 0.23307244\n",
      " 0.23786677 0.24211359 0.24582541 0.24905916 0.25189048 0.25439841\n",
      " 0.25665596 0.25872576 0.26065898 0.26249495 0.26426333 0.26598507\n",
      " 0.26767471 0.26934186 0.27099231 0.27262929 0.27425453 0.27586845\n",
      " 0.27747115 0.27906215 0.2806409  0.28220707]\n",
      "24 day output [[0.28376013]]\n",
      "25 day input [0.81534007 0.8134105  0.84920401 0.84293291 0.83801253 0.85769417\n",
      " 0.85479982 0.83772305 0.84254697 0.8173661  0.79999997 0.79035211\n",
      " 0.80974427 0.83772305 0.84293291 0.83733711 0.83396036 0.82614562\n",
      " 0.82238294 0.78330913 0.79450074 0.81234926 0.8371442  0.85836947\n",
      " 0.84544133 0.86126383 0.87216595 0.85769417 0.8359865  0.83917022\n",
      " 0.83019779 0.84524842 0.85055474 0.81553299 0.82151472 0.82315481\n",
      " 0.83453932 0.75947898 0.73217551 0.74114806 0.73111427 0.72243121\n",
      " 0.68451521 0.68451521 0.60897248 0.46251803 0.51143271 0.39758805\n",
      " 0.35880367 0.32706221 0.2404245  0.24158226 0.01003379 0.\n",
      " 0.0458273  0.07621804 0.10911725 0.12648338 0.14693679 0.10670529\n",
      " 0.04331888 0.16526771 0.17009163 0.22527736 0.22431258 0.21987459\n",
      " 0.23154847 0.34134102 0.29406654 0.22720693 0.24708154 0.24418719\n",
      " 0.19479017 0.23955617 0.29406654 0.22779933 0.23307244 0.23786677\n",
      " 0.24211359 0.24582541 0.24905916 0.25189048 0.25439841 0.25665596\n",
      " 0.25872576 0.26065898 0.26249495 0.26426333 0.26598507 0.26767471\n",
      " 0.26934186 0.27099231 0.27262929 0.27425453 0.27586845 0.27747115\n",
      " 0.27906215 0.2806409  0.28220707 0.28376013]\n",
      "25 day output [[0.28529978]]\n",
      "26 day input [0.8134105  0.84920401 0.84293291 0.83801253 0.85769417 0.85479982\n",
      " 0.83772305 0.84254697 0.8173661  0.79999997 0.79035211 0.80974427\n",
      " 0.83772305 0.84293291 0.83733711 0.83396036 0.82614562 0.82238294\n",
      " 0.78330913 0.79450074 0.81234926 0.8371442  0.85836947 0.84544133\n",
      " 0.86126383 0.87216595 0.85769417 0.8359865  0.83917022 0.83019779\n",
      " 0.84524842 0.85055474 0.81553299 0.82151472 0.82315481 0.83453932\n",
      " 0.75947898 0.73217551 0.74114806 0.73111427 0.72243121 0.68451521\n",
      " 0.68451521 0.60897248 0.46251803 0.51143271 0.39758805 0.35880367\n",
      " 0.32706221 0.2404245  0.24158226 0.01003379 0.         0.0458273\n",
      " 0.07621804 0.10911725 0.12648338 0.14693679 0.10670529 0.04331888\n",
      " 0.16526771 0.17009163 0.22527736 0.22431258 0.21987459 0.23154847\n",
      " 0.34134102 0.29406654 0.22720693 0.24708154 0.24418719 0.19479017\n",
      " 0.23955617 0.29406654 0.22779933 0.23307244 0.23786677 0.24211359\n",
      " 0.24582541 0.24905916 0.25189048 0.25439841 0.25665596 0.25872576\n",
      " 0.26065898 0.26249495 0.26426333 0.26598507 0.26767471 0.26934186\n",
      " 0.27099231 0.27262929 0.27425453 0.27586845 0.27747115 0.27906215\n",
      " 0.2806409  0.28220707 0.28376013 0.28529978]\n",
      "26 day output [[0.2868257]]\n",
      "27 day input [0.84920401 0.84293291 0.83801253 0.85769417 0.85479982 0.83772305\n",
      " 0.84254697 0.8173661  0.79999997 0.79035211 0.80974427 0.83772305\n",
      " 0.84293291 0.83733711 0.83396036 0.82614562 0.82238294 0.78330913\n",
      " 0.79450074 0.81234926 0.8371442  0.85836947 0.84544133 0.86126383\n",
      " 0.87216595 0.85769417 0.8359865  0.83917022 0.83019779 0.84524842\n",
      " 0.85055474 0.81553299 0.82151472 0.82315481 0.83453932 0.75947898\n",
      " 0.73217551 0.74114806 0.73111427 0.72243121 0.68451521 0.68451521\n",
      " 0.60897248 0.46251803 0.51143271 0.39758805 0.35880367 0.32706221\n",
      " 0.2404245  0.24158226 0.01003379 0.         0.0458273  0.07621804\n",
      " 0.10911725 0.12648338 0.14693679 0.10670529 0.04331888 0.16526771\n",
      " 0.17009163 0.22527736 0.22431258 0.21987459 0.23154847 0.34134102\n",
      " 0.29406654 0.22720693 0.24708154 0.24418719 0.19479017 0.23955617\n",
      " 0.29406654 0.22779933 0.23307244 0.23786677 0.24211359 0.24582541\n",
      " 0.24905916 0.25189048 0.25439841 0.25665596 0.25872576 0.26065898\n",
      " 0.26249495 0.26426333 0.26598507 0.26767471 0.26934186 0.27099231\n",
      " 0.27262929 0.27425453 0.27586845 0.27747115 0.27906215 0.2806409\n",
      " 0.28220707 0.28376013 0.28529978 0.28682569]\n"
     ]
    },
    {
     "name": "stdout",
     "output_type": "stream",
     "text": [
      "27 day output [[0.28833783]]\n",
      "28 day input [0.84293291 0.83801253 0.85769417 0.85479982 0.83772305 0.84254697\n",
      " 0.8173661  0.79999997 0.79035211 0.80974427 0.83772305 0.84293291\n",
      " 0.83733711 0.83396036 0.82614562 0.82238294 0.78330913 0.79450074\n",
      " 0.81234926 0.8371442  0.85836947 0.84544133 0.86126383 0.87216595\n",
      " 0.85769417 0.8359865  0.83917022 0.83019779 0.84524842 0.85055474\n",
      " 0.81553299 0.82151472 0.82315481 0.83453932 0.75947898 0.73217551\n",
      " 0.74114806 0.73111427 0.72243121 0.68451521 0.68451521 0.60897248\n",
      " 0.46251803 0.51143271 0.39758805 0.35880367 0.32706221 0.2404245\n",
      " 0.24158226 0.01003379 0.         0.0458273  0.07621804 0.10911725\n",
      " 0.12648338 0.14693679 0.10670529 0.04331888 0.16526771 0.17009163\n",
      " 0.22527736 0.22431258 0.21987459 0.23154847 0.34134102 0.29406654\n",
      " 0.22720693 0.24708154 0.24418719 0.19479017 0.23955617 0.29406654\n",
      " 0.22779933 0.23307244 0.23786677 0.24211359 0.24582541 0.24905916\n",
      " 0.25189048 0.25439841 0.25665596 0.25872576 0.26065898 0.26249495\n",
      " 0.26426333 0.26598507 0.26767471 0.26934186 0.27099231 0.27262929\n",
      " 0.27425453 0.27586845 0.27747115 0.27906215 0.2806409  0.28220707\n",
      " 0.28376013 0.28529978 0.28682569 0.28833783]\n",
      "28 day output [[0.289836]]\n",
      "29 day input [0.83801253 0.85769417 0.85479982 0.83772305 0.84254697 0.8173661\n",
      " 0.79999997 0.79035211 0.80974427 0.83772305 0.84293291 0.83733711\n",
      " 0.83396036 0.82614562 0.82238294 0.78330913 0.79450074 0.81234926\n",
      " 0.8371442  0.85836947 0.84544133 0.86126383 0.87216595 0.85769417\n",
      " 0.8359865  0.83917022 0.83019779 0.84524842 0.85055474 0.81553299\n",
      " 0.82151472 0.82315481 0.83453932 0.75947898 0.73217551 0.74114806\n",
      " 0.73111427 0.72243121 0.68451521 0.68451521 0.60897248 0.46251803\n",
      " 0.51143271 0.39758805 0.35880367 0.32706221 0.2404245  0.24158226\n",
      " 0.01003379 0.         0.0458273  0.07621804 0.10911725 0.12648338\n",
      " 0.14693679 0.10670529 0.04331888 0.16526771 0.17009163 0.22527736\n",
      " 0.22431258 0.21987459 0.23154847 0.34134102 0.29406654 0.22720693\n",
      " 0.24708154 0.24418719 0.19479017 0.23955617 0.29406654 0.22779933\n",
      " 0.23307244 0.23786677 0.24211359 0.24582541 0.24905916 0.25189048\n",
      " 0.25439841 0.25665596 0.25872576 0.26065898 0.26249495 0.26426333\n",
      " 0.26598507 0.26767471 0.26934186 0.27099231 0.27262929 0.27425453\n",
      " 0.27586845 0.27747115 0.27906215 0.2806409  0.28220707 0.28376013\n",
      " 0.28529978 0.28682569 0.28833783 0.28983599]\n",
      "29 day output [[0.29132035]]\n",
      "[[0.22779932618141174], [0.2330724447965622], [0.23786677420139313], [0.24211359024047852], [0.2458254098892212], [0.24905915558338165], [0.25189048051834106], [0.2543984055519104], [0.2566559612751007], [0.25872576236724854], [0.26065897941589355], [0.2624949514865875], [0.2642633318901062], [0.26598507165908813], [0.2676747143268585], [0.2693418562412262], [0.27099230885505676], [0.2726292908191681], [0.27425453066825867], [0.2758684456348419], [0.2774711549282074], [0.2790621519088745], [0.2806409001350403], [0.28220707178115845], [0.283760130405426], [0.28529977798461914], [0.28682568669319153], [0.2883378267288208], [0.28983598947525024], [0.2913203537464142]]\n"
     ]
    }
   ],
   "source": [
    "# demonstrate prediction for next 10 days\n",
    "from numpy import array\n",
    "\n",
    "lst_output=[]\n",
    "n_steps=100\n",
    "i=0\n",
    "while(i<30):\n",
    "    \n",
    "    if(len(temp_input)>100):\n",
    "        #print(temp_input)\n",
    "        x_input=np.array(temp_input[1:])\n",
    "        print(\"{} day input {}\".format(i,x_input))\n",
    "        x_input=x_input.reshape(1,-1)\n",
    "        x_input = x_input.reshape((1, n_steps, 1))\n",
    "        #print(x_input)\n",
    "        yhat = model.predict(x_input, verbose=0)\n",
    "        print(\"{} day output {}\".format(i,yhat))\n",
    "        temp_input.extend(yhat[0].tolist())\n",
    "        temp_input=temp_input[1:]\n",
    "        #print(temp_input)\n",
    "        lst_output.extend(yhat.tolist())\n",
    "        i=i+1\n",
    "    else:\n",
    "        x_input = x_input.reshape((1, n_steps,1))\n",
    "        yhat = model.predict(x_input, verbose=0)\n",
    "        print(yhat[0])\n",
    "        temp_input.extend(yhat[0].tolist())\n",
    "        print(len(temp_input))\n",
    "        lst_output.extend(yhat.tolist())\n",
    "        i=i+1\n",
    "    \n",
    "\n",
    "print(lst_output)"
   ]
  },
  {
   "cell_type": "code",
   "execution_count": 275,
   "metadata": {},
   "outputs": [],
   "source": [
    "day_new=np.arange(1,101)\n",
    "day_pred=np.arange(101,131)"
   ]
  },
  {
   "cell_type": "code",
   "execution_count": 276,
   "metadata": {},
   "outputs": [],
   "source": [
    "import matplotlib.pyplot as plt"
   ]
  },
  {
   "cell_type": "code",
   "execution_count": 277,
   "metadata": {},
   "outputs": [
    {
     "data": {
      "text/plain": [
       "1229"
      ]
     },
     "execution_count": 277,
     "metadata": {},
     "output_type": "execute_result"
    }
   ],
   "source": [
    "len(df1)"
   ]
  },
  {
   "cell_type": "code",
   "execution_count": null,
   "metadata": {},
   "outputs": [],
   "source": []
  },
  {
   "cell_type": "code",
   "execution_count": 283,
   "metadata": {},
   "outputs": [
    {
     "data": {
      "text/plain": [
       "[<matplotlib.lines.Line2D at 0x22fbd866908>]"
      ]
     },
     "execution_count": 283,
     "metadata": {},
     "output_type": "execute_result"
    },
    {
     "data": {
      "image/png": "[encoded data removed]",
      "text/plain": [
       "<Figure size 432x288 with 1 Axes>"
      ]
     },
     "metadata": {
      "needs_background": "light"
     },
     "output_type": "display_data"
    }
   ],
   "source": [
    "plt.plot(day_new,scaler.inverse_transform(df1[1129:]))\n",
    "plt.plot(day_pred,scaler.inverse_transform(lst_output))"
   ]
  },
  {
   "cell_type": "code",
   "execution_count": 285,
   "metadata": {},
   "outputs": [
    {
     "data": {
      "text/plain": [
       "[<matplotlib.lines.Line2D at 0x22fbd96adc8>]"
      ]
     },
     "execution_count": 285,
     "metadata": {},
     "output_type": "execute_result"
    },
    {
     "data": {
      "image/png": "[encoded data removed]",
      "text/plain": [
       "<Figure size 432x288 with 1 Axes>"
      ]
     },
     "metadata": {
      "needs_background": "light"
     },
     "output_type": "display_data"
    }
   ],
   "source": [
    "df3=df1.tolist()\n",
    "df3.extend(lst_output)\n",
    "plt.plot(df3[1129:])"
   ]
  },
  {
   "cell_type": "code",
   "execution_count": 286,
   "metadata": {},
   "outputs": [],
   "source": [
    "df3=scaler.inverse_transform(df3).tolist()"
   ]
  },
  {
   "cell_type": "code",
   "execution_count": 291,
   "metadata": {},
   "outputs": [
    {
     "ename": "AttributeError",
     "evalue": "'Line2D' object has no property 'figsize'",
     "output_type": "error",
     "traceback": [
      "\u001b[1;31m---------------------------------------------------------------------------\u001b[0m",
      "\u001b[1;31mAttributeError\u001b[0m                            Traceback (most recent call last)",
      "\u001b[1;32m<ipython-input-291-0676cae86626>\u001b[0m in \u001b[0;36m<module>\u001b[1;34m\u001b[0m\n\u001b[1;32m----> 1\u001b[1;33m \u001b[0mplt\u001b[0m\u001b[1;33m.\u001b[0m\u001b[0mplot\u001b[0m\u001b[1;33m(\u001b[0m\u001b[0mdf3\u001b[0m\u001b[1;33m,\u001b[0m\u001b[0mfigsize\u001b[0m\u001b[1;33m=\u001b[0m\u001b[1;33m(\u001b[0m\u001b[1;36m15\u001b[0m\u001b[1;33m,\u001b[0m\u001b[1;36m5\u001b[0m\u001b[1;33m)\u001b[0m\u001b[1;33m)\u001b[0m\u001b[1;33m\u001b[0m\u001b[1;33m\u001b[0m\u001b[0m\n\u001b[0m",
      "\u001b[1;32mh:\\anaconda\\envs\\mytfenv\\lib\\site-packages\\matplotlib\\pyplot.py\u001b[0m in \u001b[0;36mplot\u001b[1;34m(scalex, scaley, data, *args, **kwargs)\u001b[0m\n\u001b[0;32m   2793\u001b[0m     return gca().plot(\n\u001b[0;32m   2794\u001b[0m         *args, scalex=scalex, scaley=scaley, **({\"data\": data} if data\n\u001b[1;32m-> 2795\u001b[1;33m         is not None else {}), **kwargs)\n\u001b[0m\u001b[0;32m   2796\u001b[0m \u001b[1;33m\u001b[0m\u001b[0m\n\u001b[0;32m   2797\u001b[0m \u001b[1;33m\u001b[0m\u001b[0m\n",
      "\u001b[1;32mh:\\anaconda\\envs\\mytfenv\\lib\\site-packages\\matplotlib\\axes\\_axes.py\u001b[0m in \u001b[0;36mplot\u001b[1;34m(self, scalex, scaley, data, *args, **kwargs)\u001b[0m\n\u001b[0;32m   1664\u001b[0m         \"\"\"\n\u001b[0;32m   1665\u001b[0m         \u001b[0mkwargs\u001b[0m \u001b[1;33m=\u001b[0m \u001b[0mcbook\u001b[0m\u001b[1;33m.\u001b[0m\u001b[0mnormalize_kwargs\u001b[0m\u001b[1;33m(\u001b[0m\u001b[0mkwargs\u001b[0m\u001b[1;33m,\u001b[0m \u001b[0mmlines\u001b[0m\u001b[1;33m.\u001b[0m\u001b[0mLine2D\u001b[0m\u001b[1;33m.\u001b[0m\u001b[0m_alias_map\u001b[0m\u001b[1;33m)\u001b[0m\u001b[1;33m\u001b[0m\u001b[1;33m\u001b[0m\u001b[0m\n\u001b[1;32m-> 1666\u001b[1;33m         \u001b[0mlines\u001b[0m \u001b[1;33m=\u001b[0m \u001b[1;33m[\u001b[0m\u001b[1;33m*\u001b[0m\u001b[0mself\u001b[0m\u001b[1;33m.\u001b[0m\u001b[0m_get_lines\u001b[0m\u001b[1;33m(\u001b[0m\u001b[1;33m*\u001b[0m\u001b[0margs\u001b[0m\u001b[1;33m,\u001b[0m \u001b[0mdata\u001b[0m\u001b[1;33m=\u001b[0m\u001b[0mdata\u001b[0m\u001b[1;33m,\u001b[0m \u001b[1;33m**\u001b[0m\u001b[0mkwargs\u001b[0m\u001b[1;33m)\u001b[0m\u001b[1;33m]\u001b[0m\u001b[1;33m\u001b[0m\u001b[1;33m\u001b[0m\u001b[0m\n\u001b[0m\u001b[0;32m   1667\u001b[0m         \u001b[1;32mfor\u001b[0m \u001b[0mline\u001b[0m \u001b[1;32min\u001b[0m \u001b[0mlines\u001b[0m\u001b[1;33m:\u001b[0m\u001b[1;33m\u001b[0m\u001b[1;33m\u001b[0m\u001b[0m\n\u001b[0;32m   1668\u001b[0m             \u001b[0mself\u001b[0m\u001b[1;33m.\u001b[0m\u001b[0madd_line\u001b[0m\u001b[1;33m(\u001b[0m\u001b[0mline\u001b[0m\u001b[1;33m)\u001b[0m\u001b[1;33m\u001b[0m\u001b[1;33m\u001b[0m\u001b[0m\n",
      "\u001b[1;32mh:\\anaconda\\envs\\mytfenv\\lib\\site-packages\\matplotlib\\axes\\_base.py\u001b[0m in \u001b[0;36m__call__\u001b[1;34m(self, *args, **kwargs)\u001b[0m\n\u001b[0;32m    223\u001b[0m                 \u001b[0mthis\u001b[0m \u001b[1;33m+=\u001b[0m \u001b[0margs\u001b[0m\u001b[1;33m[\u001b[0m\u001b[1;36m0\u001b[0m\u001b[1;33m]\u001b[0m\u001b[1;33m,\u001b[0m\u001b[1;33m\u001b[0m\u001b[1;33m\u001b[0m\u001b[0m\n\u001b[0;32m    224\u001b[0m                 \u001b[0margs\u001b[0m \u001b[1;33m=\u001b[0m \u001b[0margs\u001b[0m\u001b[1;33m[\u001b[0m\u001b[1;36m1\u001b[0m\u001b[1;33m:\u001b[0m\u001b[1;33m]\u001b[0m\u001b[1;33m\u001b[0m\u001b[1;33m\u001b[0m\u001b[0m\n\u001b[1;32m--> 225\u001b[1;33m             \u001b[1;32myield\u001b[0m \u001b[1;32mfrom\u001b[0m \u001b[0mself\u001b[0m\u001b[1;33m.\u001b[0m\u001b[0m_plot_args\u001b[0m\u001b[1;33m(\u001b[0m\u001b[0mthis\u001b[0m\u001b[1;33m,\u001b[0m \u001b[0mkwargs\u001b[0m\u001b[1;33m)\u001b[0m\u001b[1;33m\u001b[0m\u001b[1;33m\u001b[0m\u001b[0m\n\u001b[0m\u001b[0;32m    226\u001b[0m \u001b[1;33m\u001b[0m\u001b[0m\n\u001b[0;32m    227\u001b[0m     \u001b[1;32mdef\u001b[0m \u001b[0mget_next_color\u001b[0m\u001b[1;33m(\u001b[0m\u001b[0mself\u001b[0m\u001b[1;33m)\u001b[0m\u001b[1;33m:\u001b[0m\u001b[1;33m\u001b[0m\u001b[1;33m\u001b[0m\u001b[0m\n",
      "\u001b[1;32mh:\\anaconda\\envs\\mytfenv\\lib\\site-packages\\matplotlib\\axes\\_base.py\u001b[0m in \u001b[0;36m_plot_args\u001b[1;34m(self, tup, kwargs)\u001b[0m\n\u001b[0;32m    403\u001b[0m                 \"non-matching shapes is deprecated.\")\n\u001b[0;32m    404\u001b[0m         \u001b[1;32mfor\u001b[0m \u001b[0mj\u001b[0m \u001b[1;32min\u001b[0m \u001b[0mrange\u001b[0m\u001b[1;33m(\u001b[0m\u001b[0mmax\u001b[0m\u001b[1;33m(\u001b[0m\u001b[0mncx\u001b[0m\u001b[1;33m,\u001b[0m \u001b[0mncy\u001b[0m\u001b[1;33m)\u001b[0m\u001b[1;33m)\u001b[0m\u001b[1;33m:\u001b[0m\u001b[1;33m\u001b[0m\u001b[1;33m\u001b[0m\u001b[0m\n\u001b[1;32m--> 405\u001b[1;33m             \u001b[0mseg\u001b[0m \u001b[1;33m=\u001b[0m \u001b[0mfunc\u001b[0m\u001b[1;33m(\u001b[0m\u001b[0mx\u001b[0m\u001b[1;33m[\u001b[0m\u001b[1;33m:\u001b[0m\u001b[1;33m,\u001b[0m \u001b[0mj\u001b[0m \u001b[1;33m%\u001b[0m \u001b[0mncx\u001b[0m\u001b[1;33m]\u001b[0m\u001b[1;33m,\u001b[0m \u001b[0my\u001b[0m\u001b[1;33m[\u001b[0m\u001b[1;33m:\u001b[0m\u001b[1;33m,\u001b[0m \u001b[0mj\u001b[0m \u001b[1;33m%\u001b[0m \u001b[0mncy\u001b[0m\u001b[1;33m]\u001b[0m\u001b[1;33m,\u001b[0m \u001b[0mkw\u001b[0m\u001b[1;33m,\u001b[0m \u001b[0mkwargs\u001b[0m\u001b[1;33m)\u001b[0m\u001b[1;33m\u001b[0m\u001b[1;33m\u001b[0m\u001b[0m\n\u001b[0m\u001b[0;32m    406\u001b[0m             \u001b[0mret\u001b[0m\u001b[1;33m.\u001b[0m\u001b[0mappend\u001b[0m\u001b[1;33m(\u001b[0m\u001b[0mseg\u001b[0m\u001b[1;33m)\u001b[0m\u001b[1;33m\u001b[0m\u001b[1;33m\u001b[0m\u001b[0m\n\u001b[0;32m    407\u001b[0m         \u001b[1;32mreturn\u001b[0m \u001b[0mret\u001b[0m\u001b[1;33m\u001b[0m\u001b[1;33m\u001b[0m\u001b[0m\n",
      "\u001b[1;32mh:\\anaconda\\envs\\mytfenv\\lib\\site-packages\\matplotlib\\axes\\_base.py\u001b[0m in \u001b[0;36m_makeline\u001b[1;34m(self, x, y, kw, kwargs)\u001b[0m\n\u001b[0;32m    310\u001b[0m         \u001b[0mdefault_dict\u001b[0m \u001b[1;33m=\u001b[0m \u001b[0mself\u001b[0m\u001b[1;33m.\u001b[0m\u001b[0m_getdefaults\u001b[0m\u001b[1;33m(\u001b[0m\u001b[0mset\u001b[0m\u001b[1;33m(\u001b[0m\u001b[1;33m)\u001b[0m\u001b[1;33m,\u001b[0m \u001b[0mkw\u001b[0m\u001b[1;33m)\u001b[0m\u001b[1;33m\u001b[0m\u001b[1;33m\u001b[0m\u001b[0m\n\u001b[0;32m    311\u001b[0m         \u001b[0mself\u001b[0m\u001b[1;33m.\u001b[0m\u001b[0m_setdefaults\u001b[0m\u001b[1;33m(\u001b[0m\u001b[0mdefault_dict\u001b[0m\u001b[1;33m,\u001b[0m \u001b[0mkw\u001b[0m\u001b[1;33m)\u001b[0m\u001b[1;33m\u001b[0m\u001b[1;33m\u001b[0m\u001b[0m\n\u001b[1;32m--> 312\u001b[1;33m         \u001b[0mseg\u001b[0m \u001b[1;33m=\u001b[0m \u001b[0mmlines\u001b[0m\u001b[1;33m.\u001b[0m\u001b[0mLine2D\u001b[0m\u001b[1;33m(\u001b[0m\u001b[0mx\u001b[0m\u001b[1;33m,\u001b[0m \u001b[0my\u001b[0m\u001b[1;33m,\u001b[0m \u001b[1;33m**\u001b[0m\u001b[0mkw\u001b[0m\u001b[1;33m)\u001b[0m\u001b[1;33m\u001b[0m\u001b[1;33m\u001b[0m\u001b[0m\n\u001b[0m\u001b[0;32m    313\u001b[0m         \u001b[1;32mreturn\u001b[0m \u001b[0mseg\u001b[0m\u001b[1;33m\u001b[0m\u001b[1;33m\u001b[0m\u001b[0m\n\u001b[0;32m    314\u001b[0m \u001b[1;33m\u001b[0m\u001b[0m\n",
      "\u001b[1;32mh:\\anaconda\\envs\\mytfenv\\lib\\site-packages\\matplotlib\\lines.py\u001b[0m in \u001b[0;36m__init__\u001b[1;34m(self, xdata, ydata, linewidth, linestyle, color, marker, markersize, markeredgewidth, markeredgecolor, markerfacecolor, markerfacecoloralt, fillstyle, antialiased, dash_capstyle, solid_capstyle, dash_joinstyle, solid_joinstyle, pickradius, drawstyle, markevery, **kwargs)\u001b[0m\n\u001b[0;32m    402\u001b[0m         \u001b[1;31m# update kwargs before updating data to give the caller a\u001b[0m\u001b[1;33m\u001b[0m\u001b[1;33m\u001b[0m\u001b[1;33m\u001b[0m\u001b[0m\n\u001b[0;32m    403\u001b[0m         \u001b[1;31m# chance to init axes (and hence unit support)\u001b[0m\u001b[1;33m\u001b[0m\u001b[1;33m\u001b[0m\u001b[1;33m\u001b[0m\u001b[0m\n\u001b[1;32m--> 404\u001b[1;33m         \u001b[0mself\u001b[0m\u001b[1;33m.\u001b[0m\u001b[0mupdate\u001b[0m\u001b[1;33m(\u001b[0m\u001b[0mkwargs\u001b[0m\u001b[1;33m)\u001b[0m\u001b[1;33m\u001b[0m\u001b[1;33m\u001b[0m\u001b[0m\n\u001b[0m\u001b[0;32m    405\u001b[0m         \u001b[0mself\u001b[0m\u001b[1;33m.\u001b[0m\u001b[0mpickradius\u001b[0m \u001b[1;33m=\u001b[0m \u001b[0mpickradius\u001b[0m\u001b[1;33m\u001b[0m\u001b[1;33m\u001b[0m\u001b[0m\n\u001b[0;32m    406\u001b[0m         \u001b[0mself\u001b[0m\u001b[1;33m.\u001b[0m\u001b[0mind_offset\u001b[0m \u001b[1;33m=\u001b[0m \u001b[1;36m0\u001b[0m\u001b[1;33m\u001b[0m\u001b[1;33m\u001b[0m\u001b[0m\n",
      "\u001b[1;32mh:\\anaconda\\envs\\mytfenv\\lib\\site-packages\\matplotlib\\artist.py\u001b[0m in \u001b[0;36mupdate\u001b[1;34m(self, props)\u001b[0m\n\u001b[0;32m    972\u001b[0m \u001b[1;33m\u001b[0m\u001b[0m\n\u001b[0;32m    973\u001b[0m         \u001b[1;32mwith\u001b[0m \u001b[0mcbook\u001b[0m\u001b[1;33m.\u001b[0m\u001b[0m_setattr_cm\u001b[0m\u001b[1;33m(\u001b[0m\u001b[0mself\u001b[0m\u001b[1;33m,\u001b[0m \u001b[0meventson\u001b[0m\u001b[1;33m=\u001b[0m\u001b[1;32mFalse\u001b[0m\u001b[1;33m)\u001b[0m\u001b[1;33m:\u001b[0m\u001b[1;33m\u001b[0m\u001b[1;33m\u001b[0m\u001b[0m\n\u001b[1;32m--> 974\u001b[1;33m             \u001b[0mret\u001b[0m \u001b[1;33m=\u001b[0m \u001b[1;33m[\u001b[0m\u001b[0m_update_property\u001b[0m\u001b[1;33m(\u001b[0m\u001b[0mself\u001b[0m\u001b[1;33m,\u001b[0m \u001b[0mk\u001b[0m\u001b[1;33m,\u001b[0m \u001b[0mv\u001b[0m\u001b[1;33m)\u001b[0m \u001b[1;32mfor\u001b[0m \u001b[0mk\u001b[0m\u001b[1;33m,\u001b[0m \u001b[0mv\u001b[0m \u001b[1;32min\u001b[0m \u001b[0mprops\u001b[0m\u001b[1;33m.\u001b[0m\u001b[0mitems\u001b[0m\u001b[1;33m(\u001b[0m\u001b[1;33m)\u001b[0m\u001b[1;33m]\u001b[0m\u001b[1;33m\u001b[0m\u001b[1;33m\u001b[0m\u001b[0m\n\u001b[0m\u001b[0;32m    975\u001b[0m \u001b[1;33m\u001b[0m\u001b[0m\n\u001b[0;32m    976\u001b[0m         \u001b[1;32mif\u001b[0m \u001b[0mlen\u001b[0m\u001b[1;33m(\u001b[0m\u001b[0mret\u001b[0m\u001b[1;33m)\u001b[0m\u001b[1;33m:\u001b[0m\u001b[1;33m\u001b[0m\u001b[1;33m\u001b[0m\u001b[0m\n",
      "\u001b[1;32mh:\\anaconda\\envs\\mytfenv\\lib\\site-packages\\matplotlib\\artist.py\u001b[0m in \u001b[0;36m<listcomp>\u001b[1;34m(.0)\u001b[0m\n\u001b[0;32m    972\u001b[0m \u001b[1;33m\u001b[0m\u001b[0m\n\u001b[0;32m    973\u001b[0m         \u001b[1;32mwith\u001b[0m \u001b[0mcbook\u001b[0m\u001b[1;33m.\u001b[0m\u001b[0m_setattr_cm\u001b[0m\u001b[1;33m(\u001b[0m\u001b[0mself\u001b[0m\u001b[1;33m,\u001b[0m \u001b[0meventson\u001b[0m\u001b[1;33m=\u001b[0m\u001b[1;32mFalse\u001b[0m\u001b[1;33m)\u001b[0m\u001b[1;33m:\u001b[0m\u001b[1;33m\u001b[0m\u001b[1;33m\u001b[0m\u001b[0m\n\u001b[1;32m--> 974\u001b[1;33m             \u001b[0mret\u001b[0m \u001b[1;33m=\u001b[0m \u001b[1;33m[\u001b[0m\u001b[0m_update_property\u001b[0m\u001b[1;33m(\u001b[0m\u001b[0mself\u001b[0m\u001b[1;33m,\u001b[0m \u001b[0mk\u001b[0m\u001b[1;33m,\u001b[0m \u001b[0mv\u001b[0m\u001b[1;33m)\u001b[0m \u001b[1;32mfor\u001b[0m \u001b[0mk\u001b[0m\u001b[1;33m,\u001b[0m \u001b[0mv\u001b[0m \u001b[1;32min\u001b[0m \u001b[0mprops\u001b[0m\u001b[1;33m.\u001b[0m\u001b[0mitems\u001b[0m\u001b[1;33m(\u001b[0m\u001b[1;33m)\u001b[0m\u001b[1;33m]\u001b[0m\u001b[1;33m\u001b[0m\u001b[1;33m\u001b[0m\u001b[0m\n\u001b[0m\u001b[0;32m    975\u001b[0m \u001b[1;33m\u001b[0m\u001b[0m\n\u001b[0;32m    976\u001b[0m         \u001b[1;32mif\u001b[0m \u001b[0mlen\u001b[0m\u001b[1;33m(\u001b[0m\u001b[0mret\u001b[0m\u001b[1;33m)\u001b[0m\u001b[1;33m:\u001b[0m\u001b[1;33m\u001b[0m\u001b[1;33m\u001b[0m\u001b[0m\n",
      "\u001b[1;32mh:\\anaconda\\envs\\mytfenv\\lib\\site-packages\\matplotlib\\artist.py\u001b[0m in \u001b[0;36m_update_property\u001b[1;34m(self, k, v)\u001b[0m\n\u001b[0;32m    968\u001b[0m                 \u001b[1;32mif\u001b[0m \u001b[1;32mnot\u001b[0m \u001b[0mcallable\u001b[0m\u001b[1;33m(\u001b[0m\u001b[0mfunc\u001b[0m\u001b[1;33m)\u001b[0m\u001b[1;33m:\u001b[0m\u001b[1;33m\u001b[0m\u001b[1;33m\u001b[0m\u001b[0m\n\u001b[0;32m    969\u001b[0m                     raise AttributeError('{!r} object has no property {!r}'\n\u001b[1;32m--> 970\u001b[1;33m                                          .format(type(self).__name__, k))\n\u001b[0m\u001b[0;32m    971\u001b[0m                 \u001b[1;32mreturn\u001b[0m \u001b[0mfunc\u001b[0m\u001b[1;33m(\u001b[0m\u001b[0mv\u001b[0m\u001b[1;33m)\u001b[0m\u001b[1;33m\u001b[0m\u001b[1;33m\u001b[0m\u001b[0m\n\u001b[0;32m    972\u001b[0m \u001b[1;33m\u001b[0m\u001b[0m\n",
      "\u001b[1;31mAttributeError\u001b[0m: 'Line2D' object has no property 'figsize'"
     ]
    },
    {
     "data": {
      "image/png": "[encoded data removed]",
      "text/plain": [
       "<Figure size 432x288 with 1 Axes>"
      ]
     },
     "metadata": {
      "needs_background": "light"
     },
     "output_type": "display_data"
    }
   ],
   "source": [
    "plt.plot(df3,figsize=(15,5))"
   ]
  },
  {
   "cell_type": "code",
   "execution_count": null,
   "metadata": {},
   "outputs": [],
   "source": []
  }
 ],
 "metadata": {
  "kernelspec": {
   "display_name": "Python 3",
   "language": "python",
   "name": "python3"
  },
  "language_info": {
   "codemirror_mode": {
    "name": "ipython",
    "version": 3
   },
   "file_extension": ".py",
   "mimetype": "text/x-python",
   "name": "python",
   "nbconvert_exporter": "python",
   "pygments_lexer": "ipython3",
   "version": "3.7.6"
  }
 },
 "nbformat": 4,
 "nbformat_minor": 2
}
